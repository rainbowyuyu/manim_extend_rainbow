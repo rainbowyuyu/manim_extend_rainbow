{
 "cells": [
  {
   "metadata": {
    "ExecuteTime": {
     "end_time": "2025-01-15T08:30:15.781569Z",
     "start_time": "2025-01-15T08:30:15.091647Z"
    }
   },
   "cell_type": "code",
   "source": [
    "from yty_manim.application.page_replacement import *\n",
    "from yty_manim.basic_unit.squ_tex import *\n",
    "from yty_manim.basic_unit.screen_cycle import *\n",
    "from manim import *"
   ],
   "id": "85f37f9f551cc4be",
   "outputs": [
    {
     "data": {
      "text/plain": [
       "Manim Community \u001B[32mv0.\u001B[0m\u001B[32m18.0\u001B[0m\n",
       "\n"
      ],
      "text/html": [
       "<pre style=\"white-space:pre;overflow-x:auto;line-height:normal;font-family:Menlo,'DejaVu Sans Mono',consolas,'Courier New',monospace\">Manim Community <span style=\"color: #008000; text-decoration-color: #008000\">v0.18.0</span>\n",
       "\n",
       "</pre>\n"
      ]
     },
     "metadata": {},
     "output_type": "display_data"
    }
   ],
   "execution_count": 1
  },
  {
   "metadata": {
    "ExecuteTime": {
     "end_time": "2025-01-15T08:30:15.829298Z",
     "start_time": "2025-01-15T08:30:15.782494Z"
    }
   },
   "cell_type": "code",
   "source": [
    "%%manim -qh -v WARNING PageTest\n",
    "class PageTest(Scene):\n",
    "    def construct(self):\n",
    "        input_lst = [7,0,1,2,0,3,0,4,2,3,0,3,2,1,2,0,1,7,0,1,\" \"]\n",
    "        p = OptPageReplacement(input_lst,page_frame_num=3)\n",
    "        self.add(p)\n",
    "        self.wait()\n",
    "        for i in range(len(input_lst)-1):\n",
    "            step_on(self,p,i,0.5)"
   ],
   "id": "e7ae6bea45dfc741",
   "outputs": [
    {
     "ename": "ParseError",
     "evalue": "no element found: line 1, column 0 (<string>)",
     "output_type": "error",
     "traceback": [
      "Traceback \u001B[1;36m(most recent call last)\u001B[0m:\n",
      "\u001B[0m  File \u001B[0;32mE:\\manim_extend_rainbow\\.venv\\Lib\\site-packages\\IPython\\core\\interactiveshell.py:3577\u001B[0m in \u001B[0;35mrun_code\u001B[0m\n    exec(code_obj, self.user_global_ns, self.user_ns)\u001B[0m\n",
      "\u001B[0m  Cell \u001B[0;32mIn[2], line 1\u001B[0m\n    get_ipython().run_cell_magic('manim', '-qh -v WARNING PageTest', 'class PageTest(Scene):\\n    def construct(self):\\n        input_lst = [7,0,1,2,0,3,0,4,2,3,0,3,2,1,2,0,1,7,0,1,\" \"]\\n        p = OptPageReplacement(input_lst,page_frame_num=3)\\n        self.add(p)\\n        self.wait()\\n        for i in range(len(input_lst)-1):\\n            step_on(self,p,i,0.5)\\n')\u001B[0m\n",
      "\u001B[0m  File \u001B[0;32mE:\\manim_extend_rainbow\\.venv\\Lib\\site-packages\\IPython\\core\\interactiveshell.py:2541\u001B[0m in \u001B[0;35mrun_cell_magic\u001B[0m\n    result = fn(*args, **kwargs)\u001B[0m\n",
      "\u001B[0m  File \u001B[0;32mE:\\manim_extend_rainbow\\.venv\\Lib\\site-packages\\manim\\utils\\ipython_magic.py:141\u001B[0m in \u001B[0;35mmanim\u001B[0m\n    scene.render()\u001B[0m\n",
      "\u001B[0m  File \u001B[0;32mE:\\manim_extend_rainbow\\.venv\\Lib\\site-packages\\manim\\scene\\scene.py:223\u001B[0m in \u001B[0;35mrender\u001B[0m\n    self.construct()\u001B[0m\n",
      "\u001B[0m  File \u001B[0;32m<string>:4\u001B[0m in \u001B[0;35mconstruct\u001B[0m\n",
      "\u001B[0m  File \u001B[0;32mE:\\manim_extend_rainbow\\yty_manim\\application\\page_replacement.py:135\u001B[0m in \u001B[0;35m__init__\u001B[0m\n    super().__init__(page_lst, **kwargs)\u001B[0m\n",
      "\u001B[0m  File \u001B[0;32mE:\\manim_extend_rainbow\\yty_manim\\application\\page_replacement.py:63\u001B[0m in \u001B[0;35m__init__\u001B[0m\n    self._construct()\u001B[0m\n",
      "\u001B[0m  File \u001B[0;32mE:\\manim_extend_rainbow\\yty_manim\\application\\page_replacement.py:67\u001B[0m in \u001B[0;35m_construct\u001B[0m\n    self.pages = SquTex(self.page_lst, stroke_opacity=0, side_length=self.one_step[0]).scale(self.one_step[1])\u001B[0m\n",
      "\u001B[0m  File \u001B[0;32mE:\\manim_extend_rainbow\\yty_manim\\basic_unit\\squ_tex.py:72\u001B[0m in \u001B[0;35m__init__\u001B[0m\n    Text(f\"{self.tex[i]}\", font=font),\u001B[0m\n",
      "\u001B[0m  File \u001B[0;32mE:\\manim_extend_rainbow\\.venv\\Lib\\site-packages\\manim\\mobject\\text\\text_mobject.py:487\u001B[0m in \u001B[0;35m__init__\u001B[0m\n    super().__init__(\u001B[0m\n",
      "\u001B[0m  File \u001B[0;32mE:\\manim_extend_rainbow\\.venv\\Lib\\site-packages\\manim\\mobject\\svg\\svg_mobject.py:145\u001B[0m in \u001B[0;35m__init__\u001B[0m\n    self.init_svg_mobject(use_svg_cache=use_svg_cache)\u001B[0m\n",
      "\u001B[0m  File \u001B[0;32mE:\\manim_extend_rainbow\\.venv\\Lib\\site-packages\\manim\\mobject\\svg\\svg_mobject.py:171\u001B[0m in \u001B[0;35minit_svg_mobject\u001B[0m\n    self.generate_mobject()\u001B[0m\n",
      "\u001B[0m  File \u001B[0;32mE:\\manim_extend_rainbow\\.venv\\Lib\\site-packages\\manim\\mobject\\svg\\svg_mobject.py:193\u001B[0m in \u001B[0;35mgenerate_mobject\u001B[0m\n    element_tree = ET.parse(file_path)\u001B[0m\n",
      "\u001B[0m  File \u001B[0;32m~\\AppData\\Local\\Programs\\Python\\Python311\\Lib\\xml\\etree\\ElementTree.py:1218\u001B[0m in \u001B[0;35mparse\u001B[0m\n    tree.parse(source, parser)\u001B[0m\n",
      "\u001B[1;36m  File \u001B[1;32m~\\AppData\\Local\\Programs\\Python\\Python311\\Lib\\xml\\etree\\ElementTree.py:580\u001B[1;36m in \u001B[1;35mparse\u001B[1;36m\n\u001B[1;33m    self._root = parser._parse_whole(source)\u001B[1;36m\n",
      "\u001B[1;36m  File \u001B[1;32m<string>\u001B[1;36m\u001B[0m\n\u001B[1;31mParseError\u001B[0m\u001B[1;31m:\u001B[0m no element found: line 1, column 0\n"
     ]
    }
   ],
   "execution_count": 2
  },
  {
   "metadata": {
    "ExecuteTime": {
     "end_time": "2025-01-15T08:26:37.890905Z",
     "start_time": "2025-01-15T08:26:37.847821Z"
    }
   },
   "cell_type": "code",
   "source": [
    "%%manim -qh -v WARNING PageInit\n",
    "class PageInit(Scene):\n",
    "    def construct(self):\n",
    "        input_lst = [7,0,1,2,0,3,0,4,2,3,0,3,2,1,2,0,1,7,0,1,\" \"]\n",
    "        p = Page(input_lst,page_frame_num=3)\n",
    "        p.missing_tracker.set_value(11)\n",
    "        self.add(p)"
   ],
   "id": "daf8e12e6dcfa364",
   "outputs": [
    {
     "ename": "ParseError",
     "evalue": "no element found: line 1, column 0 (<string>)",
     "output_type": "error",
     "traceback": [
      "Traceback \u001B[1;36m(most recent call last)\u001B[0m:\n",
      "\u001B[0m  File \u001B[0;32mE:\\manim_extend_rainbow\\.venv\\Lib\\site-packages\\IPython\\core\\interactiveshell.py:3577\u001B[0m in \u001B[0;35mrun_code\u001B[0m\n    exec(code_obj, self.user_global_ns, self.user_ns)\u001B[0m\n",
      "\u001B[0m  Cell \u001B[0;32mIn[7], line 1\u001B[0m\n    get_ipython().run_cell_magic('manim', '-qh -v WARNING PageInit', 'class PageInit(Scene):\\n    def construct(self):\\n        input_lst = [7,0,1,2,0,3,0,4,2,3,0,3,2,1,2,0,1,7,0,1,\" \"]\\n        p = Page(input_lst,page_frame_num=3)\\n        p.missing_tracker.set_value(11)\\n        self.add(p)\\n')\u001B[0m\n",
      "\u001B[0m  File \u001B[0;32mE:\\manim_extend_rainbow\\.venv\\Lib\\site-packages\\IPython\\core\\interactiveshell.py:2541\u001B[0m in \u001B[0;35mrun_cell_magic\u001B[0m\n    result = fn(*args, **kwargs)\u001B[0m\n",
      "\u001B[0m  File \u001B[0;32mE:\\manim_extend_rainbow\\.venv\\Lib\\site-packages\\manim\\utils\\ipython_magic.py:141\u001B[0m in \u001B[0;35mmanim\u001B[0m\n    scene.render()\u001B[0m\n",
      "\u001B[0m  File \u001B[0;32mE:\\manim_extend_rainbow\\.venv\\Lib\\site-packages\\manim\\scene\\scene.py:223\u001B[0m in \u001B[0;35mrender\u001B[0m\n    self.construct()\u001B[0m\n",
      "\u001B[0m  File \u001B[0;32m<string>:4\u001B[0m in \u001B[0;35mconstruct\u001B[0m\n",
      "\u001B[0m  File \u001B[0;32mE:\\manim_extend_rainbow\\yty_manim\\application\\page_replacement.py:63\u001B[0m in \u001B[0;35m__init__\u001B[0m\n    self._construct()\u001B[0m\n",
      "\u001B[0m  File \u001B[0;32mE:\\manim_extend_rainbow\\yty_manim\\application\\page_replacement.py:67\u001B[0m in \u001B[0;35m_construct\u001B[0m\n    self.pages = SquTex(self.page_lst, stroke_opacity=0, side_length=self.one_step[0]).scale(self.one_step[1])\u001B[0m\n",
      "\u001B[0m  File \u001B[0;32mE:\\manim_extend_rainbow\\yty_manim\\basic_unit\\squ_tex.py:72\u001B[0m in \u001B[0;35m__init__\u001B[0m\n    Text(f\"{self.tex[i]}\", font=font),\u001B[0m\n",
      "\u001B[0m  File \u001B[0;32mE:\\manim_extend_rainbow\\.venv\\Lib\\site-packages\\manim\\mobject\\text\\text_mobject.py:487\u001B[0m in \u001B[0;35m__init__\u001B[0m\n    super().__init__(\u001B[0m\n",
      "\u001B[0m  File \u001B[0;32mE:\\manim_extend_rainbow\\.venv\\Lib\\site-packages\\manim\\mobject\\svg\\svg_mobject.py:145\u001B[0m in \u001B[0;35m__init__\u001B[0m\n    self.init_svg_mobject(use_svg_cache=use_svg_cache)\u001B[0m\n",
      "\u001B[0m  File \u001B[0;32mE:\\manim_extend_rainbow\\.venv\\Lib\\site-packages\\manim\\mobject\\svg\\svg_mobject.py:171\u001B[0m in \u001B[0;35minit_svg_mobject\u001B[0m\n    self.generate_mobject()\u001B[0m\n",
      "\u001B[0m  File \u001B[0;32mE:\\manim_extend_rainbow\\.venv\\Lib\\site-packages\\manim\\mobject\\svg\\svg_mobject.py:193\u001B[0m in \u001B[0;35mgenerate_mobject\u001B[0m\n    element_tree = ET.parse(file_path)\u001B[0m\n",
      "\u001B[0m  File \u001B[0;32m~\\AppData\\Local\\Programs\\Python\\Python311\\Lib\\xml\\etree\\ElementTree.py:1218\u001B[0m in \u001B[0;35mparse\u001B[0m\n    tree.parse(source, parser)\u001B[0m\n",
      "\u001B[1;36m  File \u001B[1;32m~\\AppData\\Local\\Programs\\Python\\Python311\\Lib\\xml\\etree\\ElementTree.py:580\u001B[1;36m in \u001B[1;35mparse\u001B[1;36m\n\u001B[1;33m    self._root = parser._parse_whole(source)\u001B[1;36m\n",
      "\u001B[1;36m  File \u001B[1;32m<string>\u001B[1;36m\u001B[0m\n\u001B[1;31mParseError\u001B[0m\u001B[1;31m:\u001B[0m no element found: line 1, column 0\n"
     ]
    }
   ],
   "execution_count": 7
  },
  {
   "metadata": {
    "ExecuteTime": {
     "end_time": "2025-01-15T08:26:43.590728Z",
     "start_time": "2025-01-15T08:26:38.361422Z"
    }
   },
   "cell_type": "code",
   "source": [
    "%%manim -qh -v WARNING ScreenTest\n",
    "class ScreenTest(Scene):\n",
    "    def construct(self):\n",
    "        text_list = [\n",
    "            \"Hello World\",\n",
    "            \"Hell Worl\",\n",
    "            \"Hel Wor\",\n",
    "            \"HE Wo\",\n",
    "        ]\n",
    "        s = ScreenCycle(text_list)\n",
    "        self.add(s)\n",
    "        self.play(s.animate.step_forward())\n",
    "        self.play(s.animate.step_forward())\n",
    "        self.play(s.animate.set_to_edge(UL))\n",
    "        self.play(s.animate.set_back())\n",
    "        self.play(s.animate.step_forward())\n",
    "        self.play(s.animate.step_forward())\n",
    "        self.play(s.animate.step_forward())"
   ],
   "id": "44d3aaffd5f45cf1",
   "outputs": [
    {
     "name": "stderr",
     "output_type": "stream",
     "text": [
      "                                                                                                            \r"
     ]
    },
    {
     "data": {
      "text/plain": [
       "<IPython.core.display.Video object>"
      ],
      "text/html": [
       "<video src=\"media\\jupyter\\ScreenTest@2025-01-15@16-26-43.mp4\" controls autoplay loop style=\"max-width: 60%;\"  >\n",
       "      Your browser does not support the <code>video</code> element.\n",
       "    </video>"
      ]
     },
     "metadata": {},
     "output_type": "display_data"
    }
   ],
   "execution_count": 8
  },
  {
   "metadata": {
    "ExecuteTime": {
     "end_time": "2025-01-15T08:14:27.150696Z",
     "start_time": "2025-01-15T08:14:26.296195Z"
    }
   },
   "cell_type": "code",
   "source": [
    "%%manim -qh -v WARNING StackTest\n",
    "class StackTest(Scene):\n",
    "    def construct(self):\n",
    "        s = SquTexSlide(\"aa\")\n",
    "        p1 = SquTexSlide(\"a\")\n",
    "        p2 = SquTexSlide(\"b\")\n",
    "        self.add(s)\n",
    "        self.play(*s.push(p1,2,force_center=True))\n",
    "        self.play(*s.push(p2,3,force_center=True))\n",
    "        for i in range(3):\n",
    "            self.play(*s.pop(0,force_center=True))\n",
    "        self.wait()"
   ],
   "id": "620e2488290027c9",
   "outputs": [
    {
     "name": "stderr",
     "output_type": "stream",
     "text": [
      "                                                                                               \r"
     ]
    },
    {
     "data": {
      "text/plain": [
       "<IPython.core.display.Video object>"
      ],
      "text/html": [
       "<video src=\"media\\jupyter\\StackTest@2025-01-15@16-14-27.mp4\" controls autoplay loop style=\"max-width: 60%;\"  >\n",
       "      Your browser does not support the <code>video</code> element.\n",
       "    </video>"
      ]
     },
     "metadata": {},
     "output_type": "display_data"
    }
   ],
   "execution_count": 7
  },
  {
   "metadata": {},
   "cell_type": "code",
   "outputs": [],
   "execution_count": null,
   "source": "",
   "id": "eb6c8ea5f90199ab"
  }
 ],
 "metadata": {
  "kernelspec": {
   "display_name": "Python 3",
   "language": "python",
   "name": "python3"
  },
  "language_info": {
   "codemirror_mode": {
    "name": "ipython",
    "version": 2
   },
   "file_extension": ".py",
   "mimetype": "text/x-python",
   "name": "python",
   "nbconvert_exporter": "python",
   "pygments_lexer": "ipython2",
   "version": "2.7.6"
  }
 },
 "nbformat": 4,
 "nbformat_minor": 5
}
