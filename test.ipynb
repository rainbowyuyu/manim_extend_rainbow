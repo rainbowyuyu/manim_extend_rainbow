{
 "cells": [
  {
   "metadata": {
    "ExecuteTime": {
     "end_time": "2025-01-15T03:31:22.077556Z",
     "start_time": "2025-01-15T03:31:21.418227Z"
    }
   },
   "cell_type": "code",
   "source": [
    "from yty_manim.application.page_replacement import *\n",
    "from yty_manim.basic_unit.squ_tex import *\n",
    "from yty_manim.basic_unit.screen_cycle import *\n",
    "from manim import *"
   ],
   "id": "85f37f9f551cc4be",
   "outputs": [
    {
     "data": {
      "text/plain": [
       "Manim Community \u001B[32mv0.\u001B[0m\u001B[32m18.0\u001B[0m\n",
       "\n"
      ],
      "text/html": [
       "<pre style=\"white-space:pre;overflow-x:auto;line-height:normal;font-family:Menlo,'DejaVu Sans Mono',consolas,'Courier New',monospace\">Manim Community <span style=\"color: #008000; text-decoration-color: #008000\">v0.18.0</span>\n",
       "\n",
       "</pre>\n"
      ]
     },
     "metadata": {},
     "output_type": "display_data"
    }
   ],
   "execution_count": 1
  },
  {
   "metadata": {
    "ExecuteTime": {
     "end_time": "2025-01-11T08:46:29.768686Z",
     "start_time": "2025-01-11T08:44:26.946756Z"
    }
   },
   "cell_type": "code",
   "source": [
    "%%manim -qh -v WARNING PageTest\n",
    "class PageTest(Scene):\n",
    "    def construct(self):\n",
    "        input_lst = [7,0,1,2,0,3,0,4,2,3,0,3,2,1,2,0,1,7,0,1,\" \"]\n",
    "        p = FifoPageReplacement(input_lst,page_frame_num=3)\n",
    "        self.add(p)\n",
    "        self.wait()\n",
    "        for i in range(len(input_lst)-1):\n",
    "            step_on(self,p,i,0.5)"
   ],
   "id": "e7ae6bea45dfc741",
   "outputs": [
    {
     "name": "stderr",
     "output_type": "stream",
     "text": [
      "                                                                                                               \r"
     ]
    },
    {
     "data": {
      "text/plain": [
       "<IPython.core.display.Video object>"
      ],
      "text/html": [
       "<video src=\"media\\jupyter\\PageTest@2025-01-11@16-46-29.mp4\" controls autoplay loop style=\"max-width: 60%;\"  >\n",
       "      Your browser does not support the <code>video</code> element.\n",
       "    </video>"
      ]
     },
     "metadata": {},
     "output_type": "display_data"
    }
   ],
   "execution_count": 2
  },
  {
   "metadata": {
    "ExecuteTime": {
     "end_time": "2025-01-12T01:58:43.878331Z",
     "start_time": "2025-01-12T01:58:43.872725Z"
    }
   },
   "cell_type": "code",
   "source": [
    "%%manim -qh -v WARNING PageInit\n",
    "class PageInit(Scene):\n",
    "    def construct(self):\n",
    "        input_lst = [7,0,1,2,0,3,0,4,2,3,0,3,2,1,2,0,1,7,0,1,\" \"]\n",
    "        p = Page(input_lst,page_frame_num=3)\n",
    "        p.missing_tracker.set_value(11)\n",
    "        self.add(p)"
   ],
   "id": "daf8e12e6dcfa364",
   "outputs": [
    {
     "name": "stderr",
     "output_type": "stream",
     "text": [
      "UsageError: Cell magic `%%manim` not found.\n"
     ]
    }
   ],
   "execution_count": 1
  },
  {
   "metadata": {
    "ExecuteTime": {
     "end_time": "2025-01-12T02:34:50.676971Z",
     "start_time": "2025-01-12T02:34:49.345394Z"
    }
   },
   "cell_type": "code",
   "source": [
    "%%manim -qh -v WARNING Test\n",
    "class Test(Scene):\n",
    "    def construct(self):\n",
    "        a = SquTexSlide(\"123456\")\n",
    "        b = SquTexSlide(\"a\")\n",
    "        self.add(a)\n",
    "        self.wait()\n",
    "        self.play(*a.pop(2))\n",
    "        self.wait()\n",
    "        self.play(*a.push(3,b))"
   ],
   "id": "53eeef9afbcae89b",
   "outputs": [
    {
     "name": "stderr",
     "output_type": "stream",
     "text": [
      "                                                                                                                   \r"
     ]
    },
    {
     "data": {
      "text/plain": [
       "<IPython.core.display.Video object>"
      ],
      "text/html": [
       "<video src=\"media\\jupyter\\Test@2025-01-12@10-34-50.mp4\" controls autoplay loop style=\"max-width: 60%;\"  >\n",
       "      Your browser does not support the <code>video</code> element.\n",
       "    </video>"
      ]
     },
     "metadata": {},
     "output_type": "display_data"
    }
   ],
   "execution_count": 2
  },
  {
   "metadata": {
    "ExecuteTime": {
     "end_time": "2025-01-12T09:25:43.128165Z",
     "start_time": "2025-01-12T09:25:29.804037Z"
    }
   },
   "cell_type": "code",
   "source": [
    "%%manim -qh -v WARNING ScreenTest\n",
    "class ScreenTest(Scene):\n",
    "    def construct(self):\n",
    "        text_list = [\n",
    "            \"Hello World\",\n",
    "            \"Hell Worl\",\n",
    "            \"Hel Wor\",\n",
    "            \"HE Wo\",\n",
    "        ]\n",
    "        s = ScreenCycle(text_list)\n",
    "        self.add(s)\n",
    "        self.play(s.animate.step_forward())\n",
    "        self.play(s.animate.step_forward())\n",
    "        self.play(s.animate.set_to_edge(UL))\n",
    "        self.play(s.animate.set_back())\n",
    "        self.play(s.animate.step_forward())\n",
    "        self.play(s.animate.step_forward())\n",
    "        self.play(s.animate.step_forward())"
   ],
   "id": "44d3aaffd5f45cf1",
   "outputs": [
    {
     "name": "stderr",
     "output_type": "stream",
     "text": [
      "                                                                                                            \r"
     ]
    },
    {
     "data": {
      "text/plain": [
       "<IPython.core.display.Video object>"
      ],
      "text/html": [
       "<video src=\"media\\jupyter\\ScreenTest@2025-01-12@17-25-43.mp4\" controls autoplay loop style=\"max-width: 60%;\"  >\n",
       "      Your browser does not support the <code>video</code> element.\n",
       "    </video>"
      ]
     },
     "metadata": {},
     "output_type": "display_data"
    }
   ],
   "execution_count": 4
  },
  {
   "metadata": {
    "ExecuteTime": {
     "end_time": "2025-01-15T03:31:27.624382Z",
     "start_time": "2025-01-15T03:31:24.711327Z"
    }
   },
   "cell_type": "code",
   "source": [
    "%%manim -qh -v WARNING StackTest\n",
    "class StackTest(Scene):\n",
    "    def construct(self):\n",
    "        s = SquTexSlide(\"a\")\n",
    "        p1 = SquTexSlide(\"a\")\n",
    "        p2 = SquTexSlide(\"b\")\n",
    "        self.add(s)\n",
    "        self.play(*s.push(p1))\n",
    "        self.play(*s.push(p2,force_center=True))\n",
    "        self.wait()"
   ],
   "id": "620e2488290027c9",
   "outputs": [
    {
     "name": "stderr",
     "output_type": "stream",
     "text": [
      "                                                                                                             \r"
     ]
    },
    {
     "data": {
      "text/plain": [
       "<IPython.core.display.Video object>"
      ],
      "text/html": [
       "<video src=\"media\\jupyter\\StackTest@2025-01-15@11-31-27.mp4\" controls autoplay loop style=\"max-width: 60%;\"  >\n",
       "      Your browser does not support the <code>video</code> element.\n",
       "    </video>"
      ]
     },
     "metadata": {},
     "output_type": "display_data"
    }
   ],
   "execution_count": 2
  },
  {
   "metadata": {},
   "cell_type": "code",
   "outputs": [],
   "execution_count": null,
   "source": "",
   "id": "eb6c8ea5f90199ab"
  }
 ],
 "metadata": {
  "kernelspec": {
   "display_name": "Python 3",
   "language": "python",
   "name": "python3"
  },
  "language_info": {
   "codemirror_mode": {
    "name": "ipython",
    "version": 2
   },
   "file_extension": ".py",
   "mimetype": "text/x-python",
   "name": "python",
   "nbconvert_exporter": "python",
   "pygments_lexer": "ipython2",
   "version": "2.7.6"
  }
 },
 "nbformat": 4,
 "nbformat_minor": 5
}
