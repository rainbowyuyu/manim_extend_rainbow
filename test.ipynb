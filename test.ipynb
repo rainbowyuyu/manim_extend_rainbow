{
 "cells": [
  {
   "cell_type": "code",
   "id": "initial_id",
   "metadata": {
    "collapsed": true,
    "ExecuteTime": {
     "end_time": "2024-12-21T19:48:33.877236Z",
     "start_time": "2024-12-21T19:48:33.862655Z"
    }
   },
   "source": [
    "from manim import *\n",
    "from yty_manim.squ_tex import *"
   ],
   "outputs": [],
   "execution_count": 4
  },
  {
   "metadata": {
    "jupyter": {
     "is_executing": true
    }
   },
   "cell_type": "code",
   "source": [
    "%%manim -qh -v WARNING TestSqu\n",
    "class TestSqu(Scene):\n",
    "    def construct(self):\n",
    "        s = SquTexSlide([1,2,3,4,5,6])\n",
    "        self.add(s)\n",
    "        self.wait()\n",
    "        for i in range(len(s)):\n",
    "            self.play(*s.slide(-1))\n",
    "        self.wait()"
   ],
   "id": "925759212cb4b846",
   "outputs": [],
   "execution_count": null
  },
  {
   "metadata": {
    "ExecuteTime": {
     "end_time": "2024-12-21T19:49:26.075867Z",
     "start_time": "2024-12-21T19:49:25.874257Z"
    }
   },
   "cell_type": "code",
   "source": [
    "%%manim -qh -v WARNING TestFade\n",
    "class TestFade(Scene):\n",
    "    def construct(self):\n",
    "        a = SquTexSlide(\"ytyabc\")\n",
    "        b = SquTex(\"aa\")\n",
    "        self.add(a)\n",
    "        self.play(*a.slide_fade('forward',b))\n",
    "        self.play(*a.slide_fade(2))"
   ],
   "id": "4c0a8c3b61e544ef",
   "outputs": [
    {
     "ename": "ValueError",
     "evalue": "使用slide_fade时directrion:9和st_input:SquTex of 2 submobjects需输入正确格式",
     "output_type": "error",
     "traceback": [
      "\u001B[1;31m---------------------------------------------------------------------------\u001B[0m",
      "\u001B[1;31mValueError\u001B[0m                                Traceback (most recent call last)",
      "Cell \u001B[1;32mIn[6], line 1\u001B[0m\n\u001B[1;32m----> 1\u001B[0m \u001B[43mget_ipython\u001B[49m\u001B[43m(\u001B[49m\u001B[43m)\u001B[49m\u001B[38;5;241;43m.\u001B[39;49m\u001B[43mrun_cell_magic\u001B[49m\u001B[43m(\u001B[49m\u001B[38;5;124;43m'\u001B[39;49m\u001B[38;5;124;43mmanim\u001B[39;49m\u001B[38;5;124;43m'\u001B[39;49m\u001B[43m,\u001B[49m\u001B[43m \u001B[49m\u001B[38;5;124;43m'\u001B[39;49m\u001B[38;5;124;43m-qh -v WARNING TestFade\u001B[39;49m\u001B[38;5;124;43m'\u001B[39;49m\u001B[43m,\u001B[49m\u001B[43m \u001B[49m\u001B[38;5;124;43m'\u001B[39;49m\u001B[38;5;124;43mclass TestFade(Scene):\u001B[39;49m\u001B[38;5;130;43;01m\\n\u001B[39;49;00m\u001B[38;5;124;43m    def construct(self):\u001B[39;49m\u001B[38;5;130;43;01m\\n\u001B[39;49;00m\u001B[38;5;124;43m        a = SquTexSlide(\u001B[39;49m\u001B[38;5;124;43m\"\u001B[39;49m\u001B[38;5;124;43mytyabc\u001B[39;49m\u001B[38;5;124;43m\"\u001B[39;49m\u001B[38;5;124;43m)\u001B[39;49m\u001B[38;5;130;43;01m\\n\u001B[39;49;00m\u001B[38;5;124;43m        b = SquTex(\u001B[39;49m\u001B[38;5;124;43m\"\u001B[39;49m\u001B[38;5;124;43maa\u001B[39;49m\u001B[38;5;124;43m\"\u001B[39;49m\u001B[38;5;124;43m)\u001B[39;49m\u001B[38;5;130;43;01m\\n\u001B[39;49;00m\u001B[38;5;124;43m        self.add(a)\u001B[39;49m\u001B[38;5;130;43;01m\\n\u001B[39;49;00m\u001B[38;5;124;43m        self.play(*a.slide_fade(9,b))\u001B[39;49m\u001B[38;5;130;43;01m\\n\u001B[39;49;00m\u001B[38;5;124;43m'\u001B[39;49m\u001B[43m)\u001B[49m\n",
      "File \u001B[1;32mE:\\ipynb\\venv\\lib\\site-packages\\IPython\\core\\interactiveshell.py:2541\u001B[0m, in \u001B[0;36mInteractiveShell.run_cell_magic\u001B[1;34m(self, magic_name, line, cell)\u001B[0m\n\u001B[0;32m   2539\u001B[0m \u001B[38;5;28;01mwith\u001B[39;00m \u001B[38;5;28mself\u001B[39m\u001B[38;5;241m.\u001B[39mbuiltin_trap:\n\u001B[0;32m   2540\u001B[0m     args \u001B[38;5;241m=\u001B[39m (magic_arg_s, cell)\n\u001B[1;32m-> 2541\u001B[0m     result \u001B[38;5;241m=\u001B[39m fn(\u001B[38;5;241m*\u001B[39margs, \u001B[38;5;241m*\u001B[39m\u001B[38;5;241m*\u001B[39mkwargs)\n\u001B[0;32m   2543\u001B[0m \u001B[38;5;66;03m# The code below prevents the output from being displayed\u001B[39;00m\n\u001B[0;32m   2544\u001B[0m \u001B[38;5;66;03m# when using magics with decorator @output_can_be_silenced\u001B[39;00m\n\u001B[0;32m   2545\u001B[0m \u001B[38;5;66;03m# when the last Python token in the expression is a ';'.\u001B[39;00m\n\u001B[0;32m   2546\u001B[0m \u001B[38;5;28;01mif\u001B[39;00m \u001B[38;5;28mgetattr\u001B[39m(fn, magic\u001B[38;5;241m.\u001B[39mMAGIC_OUTPUT_CAN_BE_SILENCED, \u001B[38;5;28;01mFalse\u001B[39;00m):\n",
      "File \u001B[1;32mE:\\ipynb\\venv\\lib\\site-packages\\manim\\utils\\ipython_magic.py:141\u001B[0m, in \u001B[0;36mManimMagic.manim\u001B[1;34m(self, line, cell, local_ns)\u001B[0m\n\u001B[0;32m    139\u001B[0m     SceneClass \u001B[38;5;241m=\u001B[39m local_ns[config[\u001B[38;5;124m\"\u001B[39m\u001B[38;5;124mscene_names\u001B[39m\u001B[38;5;124m\"\u001B[39m][\u001B[38;5;241m0\u001B[39m]]\n\u001B[0;32m    140\u001B[0m     scene \u001B[38;5;241m=\u001B[39m SceneClass(renderer\u001B[38;5;241m=\u001B[39mrenderer)\n\u001B[1;32m--> 141\u001B[0m     \u001B[43mscene\u001B[49m\u001B[38;5;241;43m.\u001B[39;49m\u001B[43mrender\u001B[49m\u001B[43m(\u001B[49m\u001B[43m)\u001B[49m\n\u001B[0;32m    142\u001B[0m \u001B[38;5;28;01mfinally\u001B[39;00m:\n\u001B[0;32m    143\u001B[0m     \u001B[38;5;66;03m# Shader cache becomes invalid as the context is destroyed\u001B[39;00m\n\u001B[0;32m    144\u001B[0m     shader_program_cache\u001B[38;5;241m.\u001B[39mclear()\n",
      "File \u001B[1;32mE:\\ipynb\\venv\\lib\\site-packages\\manim\\scene\\scene.py:223\u001B[0m, in \u001B[0;36mScene.render\u001B[1;34m(self, preview)\u001B[0m\n\u001B[0;32m    221\u001B[0m \u001B[38;5;28mself\u001B[39m\u001B[38;5;241m.\u001B[39msetup()\n\u001B[0;32m    222\u001B[0m \u001B[38;5;28;01mtry\u001B[39;00m:\n\u001B[1;32m--> 223\u001B[0m     \u001B[38;5;28;43mself\u001B[39;49m\u001B[38;5;241;43m.\u001B[39;49m\u001B[43mconstruct\u001B[49m\u001B[43m(\u001B[49m\u001B[43m)\u001B[49m\n\u001B[0;32m    224\u001B[0m \u001B[38;5;28;01mexcept\u001B[39;00m EndSceneEarlyException:\n\u001B[0;32m    225\u001B[0m     \u001B[38;5;28;01mpass\u001B[39;00m\n",
      "File \u001B[1;32m<string>:6\u001B[0m, in \u001B[0;36mconstruct\u001B[1;34m(self)\u001B[0m\n",
      "File \u001B[1;32mE:\\ipynb\\yty_manim\\squ_tex.py:306\u001B[0m, in \u001B[0;36mslide_fade\u001B[1;34m(self, direction, st_input)\u001B[0m\n\u001B[0;32m    294\u001B[0m \u001B[38;5;250m\u001B[39m\u001B[38;5;124;03m\"\"\"\u001B[39;00m\n\u001B[0;32m    295\u001B[0m \u001B[38;5;124;03m- 缓入缓出滑动内部循环或外部添加数据块\u001B[39;00m\n\u001B[0;32m    296\u001B[0m \u001B[38;5;124;03m- 动画组，使用play时需要进行序列解包\u001B[39;00m\n\u001B[1;32m   (...)\u001B[0m\n\u001B[0;32m    302\u001B[0m \u001B[38;5;124;03m:return: all_the_animation\u001B[39;00m\n\u001B[0;32m    303\u001B[0m \u001B[38;5;124;03m\"\"\"\u001B[39;00m\n\u001B[0;32m    305\u001B[0m \u001B[38;5;66;03m# 格式检测\u001B[39;00m\n\u001B[1;32m--> 306\u001B[0m \u001B[38;5;28;01mif\u001B[39;00m \u001B[38;5;28misinstance\u001B[39m(direction, \u001B[38;5;28mint\u001B[39m) \u001B[38;5;129;01mand\u001B[39;00m st_input \u001B[38;5;129;01mis\u001B[39;00m \u001B[38;5;28;01mNone\u001B[39;00m:\n\u001B[0;32m    307\u001B[0m     \u001B[38;5;28;01mif\u001B[39;00m \u001B[38;5;241m2\u001B[39m \u001B[38;5;241m*\u001B[39m direction \u001B[38;5;241m>\u001B[39m \u001B[38;5;28mlen\u001B[39m(\u001B[38;5;28mself\u001B[39m):\n\u001B[0;32m    308\u001B[0m         \u001B[38;5;28;01mraise\u001B[39;00m \u001B[38;5;167;01mValueError\u001B[39;00m(\u001B[38;5;124mf\u001B[39m\u001B[38;5;124m\"\u001B[39m\u001B[38;5;132;01m{\u001B[39;00mdirection\u001B[38;5;132;01m}\u001B[39;00m\u001B[38;5;124m必须小于等于\u001B[39m\u001B[38;5;132;01m{\u001B[39;00m\u001B[38;5;28mlen\u001B[39m(\u001B[38;5;28mself\u001B[39m)\u001B[38;5;250m \u001B[39m\u001B[38;5;241m/\u001B[39m\u001B[38;5;241m/\u001B[39m\u001B[38;5;250m \u001B[39m\u001B[38;5;241m2\u001B[39m\u001B[38;5;132;01m}\u001B[39;00m\u001B[38;5;124m，否则无法进行渐变操作\u001B[39m\u001B[38;5;124m\"\u001B[39m)\n",
      "\u001B[1;31mValueError\u001B[0m: 使用slide_fade时directrion:9和st_input:SquTex of 2 submobjects需输入正确格式"
     ]
    }
   ],
   "execution_count": 6
  },
  {
   "metadata": {
    "ExecuteTime": {
     "end_time": "2024-12-21T19:50:13.467970Z",
     "start_time": "2024-12-21T19:50:13.454037Z"
    }
   },
   "cell_type": "code",
   "source": "print(\"1\")",
   "id": "2c254c697461e242",
   "outputs": [
    {
     "name": "stdout",
     "output_type": "stream",
     "text": [
      "1\n"
     ]
    }
   ],
   "execution_count": 8
  },
  {
   "metadata": {},
   "cell_type": "code",
   "outputs": [],
   "execution_count": null,
   "source": "",
   "id": "eb3c36d0c7c2409e"
  }
 ],
 "metadata": {
  "kernelspec": {
   "display_name": "Python 3",
   "language": "python",
   "name": "python3"
  },
  "language_info": {
   "codemirror_mode": {
    "name": "ipython",
    "version": 2
   },
   "file_extension": ".py",
   "mimetype": "text/x-python",
   "name": "python",
   "nbconvert_exporter": "python",
   "pygments_lexer": "ipython2",
   "version": "2.7.6"
  }
 },
 "nbformat": 4,
 "nbformat_minor": 5
}
