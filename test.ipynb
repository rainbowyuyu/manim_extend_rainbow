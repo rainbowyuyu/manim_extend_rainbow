{
 "cells": [
  {
   "metadata": {
    "ExecuteTime": {
     "end_time": "2025-01-10T09:12:55.768802Z",
     "start_time": "2025-01-10T09:12:55.154161Z"
    }
   },
   "cell_type": "code",
   "source": [
    "from yty_manim.application.page_replacement import *\n",
    "from manim import *"
   ],
   "id": "85f37f9f551cc4be",
   "outputs": [
    {
     "data": {
      "text/plain": [
       "Manim Community \u001B[32mv0.\u001B[0m\u001B[32m18.0\u001B[0m\n",
       "\n"
      ],
      "text/html": [
       "<pre style=\"white-space:pre;overflow-x:auto;line-height:normal;font-family:Menlo,'DejaVu Sans Mono',consolas,'Courier New',monospace\">Manim Community <span style=\"color: #008000; text-decoration-color: #008000\">v0.18.0</span>\n",
       "\n",
       "</pre>\n"
      ]
     },
     "metadata": {},
     "output_type": "display_data"
    }
   ],
   "execution_count": 1
  },
  {
   "metadata": {
    "ExecuteTime": {
     "end_time": "2025-01-10T09:14:58.409287Z",
     "start_time": "2025-01-10T09:12:55.769815Z"
    }
   },
   "cell_type": "code",
   "source": [
    "%%manim -qh -v WARNING PageTest\n",
    "class PageTest(Scene):\n",
    "    def construct(self):\n",
    "        input_lst = [7,0,1,2,0,3,0,4,2,3,0,3,2,1,2,0,1,7,0,1,\" \"]\n",
    "        p = FifoPageReplacement(input_lst,page_frame_num=3)\n",
    "        self.add(p)\n",
    "        self.wait()\n",
    "        for i in range(len(input_lst)-1):\n",
    "            step_on(self,p,i,0.5)"
   ],
   "id": "e7ae6bea45dfc741",
   "outputs": [
    {
     "name": "stderr",
     "output_type": "stream",
     "text": [
      "                                                                                                               \r"
     ]
    },
    {
     "data": {
      "text/plain": [
       "<IPython.core.display.Video object>"
      ],
      "text/html": [
       "<video src=\"media\\jupyter\\PageTest@2025-01-10@17-14-58.mp4\" controls autoplay loop style=\"max-width: 60%;\"  >\n",
       "      Your browser does not support the <code>video</code> element.\n",
       "    </video>"
      ]
     },
     "metadata": {},
     "output_type": "display_data"
    }
   ],
   "execution_count": 2
  },
  {
   "metadata": {},
   "cell_type": "code",
   "source": [
    "%%manim -qh -v WARNING PageInit\n",
    "class PageInit(Scene):\n",
    "    def construct(self):\n",
    "        input_lst = [7,0,1,2,0,3,0,4,2,3,0,3,2,1,2,0,1,7,0,1,\" \"]\n",
    "        p = Page(input_lst,page_frame_num=3)\n",
    "        p.missing_tracker.set_value(11)\n",
    "        self.add(p)"
   ],
   "id": "daf8e12e6dcfa364",
   "outputs": [],
   "execution_count": null
  },
  {
   "metadata": {},
   "cell_type": "code",
   "source": [
    "%%manim -qh -v WARNING Test\n",
    "class Test(Scene):\n",
    "    def construct(self):\n",
    "        s = Variable(0,\"aaa\")\n",
    "        t = s.tracker\n",
    "        self.add(s)\n",
    "        self.play(t.animate.set_value(2))\n",
    "        self.wait()"
   ],
   "id": "53eeef9afbcae89b",
   "outputs": [],
   "execution_count": null
  },
  {
   "metadata": {},
   "cell_type": "code",
   "source": "",
   "id": "f853e8babe8c196e",
   "outputs": [],
   "execution_count": null
  }
 ],
 "metadata": {
  "kernelspec": {
   "display_name": "Python 3",
   "language": "python",
   "name": "python3"
  },
  "language_info": {
   "codemirror_mode": {
    "name": "ipython",
    "version": 2
   },
   "file_extension": ".py",
   "mimetype": "text/x-python",
   "name": "python",
   "nbconvert_exporter": "python",
   "pygments_lexer": "ipython2",
   "version": "2.7.6"
  }
 },
 "nbformat": 4,
 "nbformat_minor": 5
}
