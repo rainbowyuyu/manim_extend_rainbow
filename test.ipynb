{
 "cells": [
  {
   "metadata": {
    "ExecuteTime": {
     "end_time": "2025-01-04T18:01:26.587072Z",
     "start_time": "2025-01-04T18:01:26.001816Z"
    }
   },
   "cell_type": "code",
   "source": [
    "from yty_manim.application.page_replacement import *\n",
    "from manim import *"
   ],
   "id": "85f37f9f551cc4be",
   "outputs": [
    {
     "data": {
      "text/plain": [
       "Manim Community \u001B[32mv0.\u001B[0m\u001B[32m18.0\u001B[0m\n",
       "\n"
      ],
      "text/html": [
       "<pre style=\"white-space:pre;overflow-x:auto;line-height:normal;font-family:Menlo,'DejaVu Sans Mono',consolas,'Courier New',monospace\">Manim Community <span style=\"color: #008000; text-decoration-color: #008000\">v0.18.0</span>\n",
       "\n",
       "</pre>\n"
      ]
     },
     "metadata": {},
     "output_type": "display_data"
    }
   ],
   "execution_count": 1
  },
  {
   "metadata": {
    "ExecuteTime": {
     "end_time": "2025-01-04T18:01:38.968564Z",
     "start_time": "2025-01-04T18:01:26.588088Z"
    }
   },
   "cell_type": "code",
   "source": [
    "%%manim -qh -v WARNING PageTest\n",
    "class PageTest(Scene):\n",
    "    def construct(self):\n",
    "        input_lst = [7,0,1,2,0,3,0,4,2,3,0,3,2,1,2,0,1,7,0,1,\" \"]\n",
    "        p = OptPageReplacement(input_lst,page_frame_num=3)\n",
    "        self.add(p)\n",
    "        self.wait()\n",
    "        for i in range(len(input_lst)-1):\n",
    "            self.play(*p.slide_frame(i))\n",
    "            self.wait()\n",
    "            self.play(AnimationGroup(*p.update_frame(i),lag_ratio=0.5))\n",
    "            self.wait()"
   ],
   "id": "e7ae6bea45dfc741",
   "outputs": [
    {
     "name": "stderr",
     "output_type": "stream",
     "text": [
      "                                                                                                             \r"
     ]
    },
    {
     "data": {
      "text/plain": [
       "<IPython.core.display.Video object>"
      ],
      "text/html": [
       "<video src=\"media\\jupyter\\PageTest@2025-01-05@02-01-38.mp4\" controls autoplay loop style=\"max-width: 60%;\"  >\n",
       "      Your browser does not support the <code>video</code> element.\n",
       "    </video>"
      ]
     },
     "metadata": {},
     "output_type": "display_data"
    }
   ],
   "execution_count": 2
  },
  {
   "metadata": {},
   "cell_type": "code",
   "outputs": [],
   "execution_count": null,
   "source": "",
   "id": "daf8e12e6dcfa364"
  }
 ],
 "metadata": {
  "kernelspec": {
   "display_name": "Python 3",
   "language": "python",
   "name": "python3"
  },
  "language_info": {
   "codemirror_mode": {
    "name": "ipython",
    "version": 2
   },
   "file_extension": ".py",
   "mimetype": "text/x-python",
   "name": "python",
   "nbconvert_exporter": "python",
   "pygments_lexer": "ipython2",
   "version": "2.7.6"
  }
 },
 "nbformat": 4,
 "nbformat_minor": 5
}
