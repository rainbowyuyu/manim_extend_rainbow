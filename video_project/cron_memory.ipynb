{
 "cells": [
  {
   "cell_type": "code",
   "id": "initial_id",
   "metadata": {
    "collapsed": true,
    "ExecuteTime": {
     "end_time": "2025-06-20T04:22:15.190757Z",
     "start_time": "2025-06-20T04:22:15.175312Z"
    }
   },
   "source": [
    "from manim import *\n",
    "from yty_manim.basic_unit.squ_tex import *\n",
    "from yty_manim.disposition.fonts_and_colors import *"
   ],
   "outputs": [],
   "execution_count": 7
  },
  {
   "metadata": {
    "ExecuteTime": {
     "end_time": "2025-06-20T04:29:01.601143Z",
     "start_time": "2025-06-20T04:28:52.718856Z"
    }
   },
   "cell_type": "code",
   "source": [
    "%%manim -qh -v WARNING Memory\n",
    "class Memory(Scene):\n",
    "    def construct(self):\n",
    "        a = \"rainbow\"\n",
    "        s = SquTexSlide(\n",
    "            a,\n",
    "            side_length = 1.5,\n",
    "            fill_opacity = 0.5,\n",
    "            stroke_opacity = 0.8,\n",
    "        )\n",
    "        for i in range(len(a)):\n",
    "            s[i].set_color(gradient_dict[\"rainbow_color\"][i])\n",
    "\n",
    "        self.add(s)\n",
    "\n",
    "        for i in range(len(a)):\n",
    "            self.play(*s.slide_fade(1))"
   ],
   "id": "d38d72da17f4367d",
   "outputs": [
    {
     "data": {
      "text/plain": [
       "Manim Community \u001B[32mv0.\u001B[0m\u001B[32m19.0\u001B[0m\n",
       "\n"
      ],
      "text/html": [
       "<pre style=\"white-space:pre;overflow-x:auto;line-height:normal;font-family:Menlo,'DejaVu Sans Mono',consolas,'Courier New',monospace\">Manim Community <span style=\"color: #008000; text-decoration-color: #008000\">v0.19.0</span>\n",
       "\n",
       "</pre>\n"
      ]
     },
     "metadata": {},
     "output_type": "display_data"
    },
    {
     "name": "stderr",
     "output_type": "stream",
     "text": [
      "                                                                                                             \r"
     ]
    },
    {
     "data": {
      "text/plain": [
       "<IPython.core.display.Video object>"
      ],
      "text/html": [
       "<video src=\"media\\jupyter\\Memory@2025-06-20@12-29-01.mp4\" controls autoplay loop style=\"max-width: 60%;\"  >\n",
       "      Your browser does not support the <code>video</code> element.\n",
       "    </video>"
      ]
     },
     "metadata": {},
     "output_type": "display_data"
    }
   ],
   "execution_count": 18
  },
  {
   "metadata": {},
   "cell_type": "code",
   "outputs": [],
   "execution_count": null,
   "source": "",
   "id": "3ac57f9989c3ec26"
  }
 ],
 "metadata": {
  "kernelspec": {
   "display_name": "Python 3",
   "language": "python",
   "name": "python3"
  },
  "language_info": {
   "codemirror_mode": {
    "name": "ipython",
    "version": 2
   },
   "file_extension": ".py",
   "mimetype": "text/x-python",
   "name": "python",
   "nbconvert_exporter": "python",
   "pygments_lexer": "ipython2",
   "version": "2.7.6"
  }
 },
 "nbformat": 4,
 "nbformat_minor": 5
}
