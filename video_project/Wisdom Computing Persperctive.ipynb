{
 "cells": [
  {
   "cell_type": "code",
   "id": "initial_id",
   "metadata": {
    "collapsed": true,
    "ExecuteTime": {
     "end_time": "2025-05-15T12:57:14.534347Z",
     "start_time": "2025-05-15T12:57:13.740861Z"
    }
   },
   "source": [
    "import numpy as np\n",
    "from manim import *\n",
    "from yty_manim.basic_unit.squ_tex import *\n",
    "from yty_manim.disposition.fonts_and_colors import *\n",
    "from yty_manim.basic_unit.code_step import *\n",
    "from yty_manim.application.matrix_yty import *\n",
    "config.background_color = WHITE"
   ],
   "outputs": [],
   "execution_count": 1
  },
  {
   "metadata": {
    "ExecuteTime": {
     "end_time": "2025-05-13T17:20:12.370175Z",
     "start_time": "2025-05-13T17:20:05.274419Z"
    }
   },
   "cell_type": "code",
   "source": [
    "%%manim -qh -v WARNING Trans\n",
    "class Trans(Scene):\n",
    "    def construct(self):\n",
    "\n",
    "        s = Square(**typedict[\"default_type\"]).scale(2)\n",
    "        c = Circle(\n",
    "            fill_color = BLUE,\n",
    "            fill_opacity = 0.5,\n",
    "            stroke_opacity = 0.8,\n",
    "            color = BLUE\n",
    "        ).set_color(GREEN)\n",
    "        t = Text(\n",
    "            \"智算视界\",\n",
    "            font=text_font[0],\n",
    "        ).set_color_by_gradient(gradient_dict[\"Tempting_Azure_dark\"]).scale(2).shift(RIGHT * 2)\n",
    "        self.play(Create(s),run_time=1)\n",
    "        self.wait()\n",
    "        self.play(Transform(s, c),run_time=1)\n",
    "        self.wait()\n",
    "        self.play(Transform(s, t[0]),run_time=1)\n",
    "        self.wait()\n",
    "        self.play(Write(t[1]),run_time=1)\n",
    "        self.wait()\n",
    "        self.add(t[2:])\n",
    "        self.remove(s)\n",
    "        self.play(t.animate.arrange(),run_time=1)\n",
    "        self.wait()"
   ],
   "id": "2e00276791c8641",
   "outputs": [
    {
     "data": {
      "text/plain": [
       "Manim Community \u001B[32mv0.\u001B[0m\u001B[32m19.0\u001B[0m\n",
       "\n"
      ],
      "text/html": [
       "<pre style=\"white-space:pre;overflow-x:auto;line-height:normal;font-family:Menlo,'DejaVu Sans Mono',consolas,'Courier New',monospace\">Manim Community <span style=\"color: #008000; text-decoration-color: #008000\">v0.19.0</span>\n",
       "\n",
       "</pre>\n"
      ]
     },
     "metadata": {},
     "output_type": "display_data"
    },
    {
     "name": "stderr",
     "output_type": "stream",
     "text": [
      "                                                                                                \r"
     ]
    },
    {
     "data": {
      "text/plain": [
       "<IPython.core.display.Video object>"
      ],
      "text/html": [
       "<video src=\"media\\jupyter\\Trans@2025-05-14@01-20-12.mp4\" controls autoplay loop style=\"max-width: 60%;\"  >\n",
       "      Your browser does not support the <code>video</code> element.\n",
       "    </video>"
      ]
     },
     "metadata": {},
     "output_type": "display_data"
    }
   ],
   "execution_count": 2
  },
  {
   "metadata": {
    "ExecuteTime": {
     "end_time": "2025-05-13T17:20:25.584007Z",
     "start_time": "2025-05-13T17:20:13.931714Z"
    }
   },
   "cell_type": "code",
   "source": [
    "%%manim -qh -v WARNING TransCode\n",
    "class TransCode(Scene):\n",
    "    def construct(self):\n",
    "        c_tc = \"\"\"\n",
    "        self.play(Create(s))\n",
    "        self.play(Transform(s, c))\n",
    "        self.play(Transform(s, t[0]))\n",
    "        self.play(Write(t[1]))\n",
    "        self.play(t.animate.arrange())\"\"\"\n",
    "        t_c = Code(\n",
    "            code_string=c_tc,\n",
    "            language=\"python\",\n",
    "            background=\"rectangle\",\n",
    "            formatter_style = Code.get_styles_list()[32],\n",
    "        ).scale(1.5)\n",
    "        for i in range(len(t_c[2])):\n",
    "            self.play(Write(t_c[2][i]),run_time=1)\n",
    "            self.wait()"
   ],
   "id": "861959fdc94bca94",
   "outputs": [
    {
     "data": {
      "text/plain": [
       "Manim Community \u001B[32mv0.\u001B[0m\u001B[32m19.0\u001B[0m\n",
       "\n"
      ],
      "text/html": [
       "<pre style=\"white-space:pre;overflow-x:auto;line-height:normal;font-family:Menlo,'DejaVu Sans Mono',consolas,'Courier New',monospace\">Manim Community <span style=\"color: #008000; text-decoration-color: #008000\">v0.19.0</span>\n",
       "\n",
       "</pre>\n"
      ]
     },
     "metadata": {},
     "output_type": "display_data"
    },
    {
     "name": "stderr",
     "output_type": "stream",
     "text": [
      "                                                                                             \r"
     ]
    },
    {
     "data": {
      "text/plain": [
       "<IPython.core.display.Video object>"
      ],
      "text/html": [
       "<video src=\"media\\jupyter\\TransCode@2025-05-14@01-20-25.mp4\" controls autoplay loop style=\"max-width: 60%;\"  >\n",
       "      Your browser does not support the <code>video</code> element.\n",
       "    </video>"
      ]
     },
     "metadata": {},
     "output_type": "display_data"
    }
   ],
   "execution_count": 3
  },
  {
   "metadata": {
    "ExecuteTime": {
     "end_time": "2025-05-14T04:07:19.758298Z",
     "start_time": "2025-05-14T04:05:52.379507Z"
    }
   },
   "cell_type": "code",
   "source": [
    "%%manim -qh -v WARNING Bb\n",
    "class Bb(Scene):\n",
    "    def construct(self):\n",
    "        c_bb = \"\"\"\n",
    "        for i in range(len(lst)):\n",
    "            min_val = lst[i]\n",
    "            index = i\n",
    "            temp = 0\n",
    "            for j in range(i,len(lst)):\n",
    "                if lst[j] < min_val:\n",
    "                    min_val  = lst[j]\n",
    "                    index = j\n",
    "            if i != index:\n",
    "                temp = lst[i]\n",
    "                lst[i] = min_val\n",
    "                lst[index] = temp\"\"\"\n",
    "        t_bb = Code(\n",
    "            code_string=c_bb,\n",
    "            language=\"python\",\n",
    "            background=\"rectangle\",\n",
    "            formatter_style = Code.get_styles_list()[32],\n",
    "        ).scale(1.5).shift(UP*0.5)\n",
    "\n",
    "        def bb(lst):\n",
    "            for i in range(len(lst)):\n",
    "                min_val = lst[i]\n",
    "                index = i\n",
    "                temp = 0\n",
    "                for j in range(i+1,len(lst)):\n",
    "                    if min_val < lst[j]:\n",
    "                        min_val  = lst[j]\n",
    "                        index = j\n",
    "                temp = lst[i]\n",
    "                lst[i] = min_val\n",
    "                lst[index] = temp\n",
    "\n",
    "        arr = Triangle(fill_opacity=0.8).set_color(GOLD).move_to(t_bb[1][4]).scale(0.25).rotate(-PI/2)\n",
    "\n",
    "\n",
    "        num_lst = [6,2,3,1,9,0]\n",
    "        color_lst = [RED, ORANGE, GREEN_D, TEAL_D, BLUE_D, PURPLE]\n",
    "        st = SquTexSlide(\n",
    "            num_lst,\n",
    "            side_length=1.5,\n",
    "            # fill_opacity = 0.5,\n",
    "            # stroke_opacity = 0.8,\n",
    "            fill_opacity = 0,\n",
    "            stroke_opacity = 0,\n",
    "        ).fade(1)\n",
    "        hl = Square(side_length=1.5).set_color(YELLOW).move_to(st[0]).fade(1)\n",
    "        pointer = Triangle(fill_opacity=0.8).set_color(GOLD).scale(0.25).next_to(st[1],DOWN).fade(1)\n",
    "        for i in range(len(st)):\n",
    "            st[i].set_color(color_lst[i])\n",
    "\n",
    "        val_vgp = VGroup(\n",
    "            Variable(0,\"i\",num_decimal_places=0),\n",
    "            Variable(0,\"j\",num_decimal_places=0),\n",
    "            Variable(0,\"min\",num_decimal_places=0),\n",
    "            Variable(0,\"index\",num_decimal_places=0),\n",
    "        ).arrange(buff=2).shift(DOWN*3.5).set_color(BLUE_E)\n",
    "\n",
    "        i_tracker = val_vgp[0].tracker\n",
    "        j_tracker = val_vgp[1].tracker\n",
    "        min_tracker = val_vgp[2].tracker\n",
    "        index_tracker = val_vgp[3].tracker\n",
    "\n",
    "        self.add(st,hl,t_bb[2],arr,val_vgp,pointer)\n",
    "\n",
    "        for i in range(len(num_lst)):\n",
    "            min_val = num_lst[i]\n",
    "            index = i\n",
    "\n",
    "            arr.move_to(t_bb[1][0])\n",
    "            self.play(\n",
    "                arr.animate.move_to(t_bb[1][4]),\n",
    "                i_tracker.animate.set_value(i),\n",
    "                hl.animate.move_to(st[i]),\n",
    "                run_time=1\n",
    "            )\n",
    "            for j in range(i,len(num_lst)):\n",
    "                arr.move_to(t_bb[1][4])\n",
    "                if num_lst[j] < min_val:\n",
    "                    min_val  = num_lst[j]\n",
    "                    index = j\n",
    "                self.play(\n",
    "                    index_tracker.animate.set_value(index),\n",
    "                    j_tracker.animate.set_value(j),\n",
    "                    min_tracker.animate.set_value(min_val),\n",
    "                    pointer.animate.next_to(st[j],DOWN),\n",
    "                    arr.animate.move_to(t_bb[1][7]),\n",
    "                    run_time=1,\n",
    "                )\n",
    "\n",
    "            if i != index:\n",
    "                self.play(\n",
    "                    *st.pop(index,force_center=True),\n",
    "                    *st.pop(i,force_center=True),\n",
    "                    run_time = 1\n",
    "                )\n",
    "                st_i = SquTexSlide(\n",
    "                    f\"{num_lst[i]}\",\n",
    "                    **typedict[\"default_type\"]\n",
    "                ).set_color(WHITE)\n",
    "                # ).set_color(color_lst[i])\n",
    "                st_index = SquTexSlide(\n",
    "                    f\"{num_lst[index]}\",\n",
    "                    **typedict[\"default_type\"]\n",
    "                ).set_color(WHITE)\n",
    "                # ).set_color(color_lst[index])\n",
    "                self.play(\n",
    "                    *st.push(st_index,i,force_center=True,force_color=True),\n",
    "                    *st.push(st_i,index,force_center=True,force_color=True),\n",
    "                    arr.animate.move_to(t_bb[1][-1]),\n",
    "                    run_time = 1\n",
    "                )\n",
    "                temp = num_lst[i]\n",
    "                num_lst[i] = num_lst[index]\n",
    "                num_lst[index] = temp\n",
    "                t_c = color_lst[i]\n",
    "                color_lst[i] = color_lst[index]\n",
    "                color_lst[index] = t_c\n"
   ],
   "id": "1498301957c4bfe",
   "outputs": [
    {
     "data": {
      "text/plain": [
       "Manim Community \u001B[32mv0.\u001B[0m\u001B[32m19.0\u001B[0m\n",
       "\n"
      ],
      "text/html": [
       "<pre style=\"white-space:pre;overflow-x:auto;line-height:normal;font-family:Menlo,'DejaVu Sans Mono',consolas,'Courier New',monospace\">Manim Community <span style=\"color: #008000; text-decoration-color: #008000\">v0.19.0</span>\n",
       "\n",
       "</pre>\n"
      ]
     },
     "metadata": {},
     "output_type": "display_data"
    },
    {
     "name": "stderr",
     "output_type": "stream",
     "text": [
      "                                                                                                              \r"
     ]
    },
    {
     "data": {
      "text/plain": [
       "<IPython.core.display.Video object>"
      ],
      "text/html": [
       "<video src=\"media\\jupyter\\Bb@2025-05-14@12-07-19.mp4\" controls autoplay loop style=\"max-width: 60%;\"  >\n",
       "      Your browser does not support the <code>video</code> element.\n",
       "    </video>"
      ]
     },
     "metadata": {},
     "output_type": "display_data"
    }
   ],
   "execution_count": 56
  },
  {
   "metadata": {
    "ExecuteTime": {
     "end_time": "2025-05-14T08:47:57.261095Z",
     "start_time": "2025-05-14T08:47:51.008977Z"
    }
   },
   "cell_type": "code",
   "source": [
    "%%manim -qh -v WARNING IntegralVisualization\n",
    "config.background_color = BLACK\n",
    "class IntegralVisualization(Scene):\n",
    "    def construct(self):\n",
    "        vgp = VGroup()\n",
    "        mt = MathTex(\"\\int_0^2 2x^2 dx\").set_color(WHITE)\n",
    "        mt[0][0].set_color(GOLD)\n",
    "        mt[0][1].set_color(GREEN)\n",
    "        mt[0][2].set_color(RED)\n",
    "        mt[0][3:].set_color(BLUE)\n",
    "        mt1 = MathTex(\"= \\\\frac{4}{3}x\\\\right|^2_0\").set_color(WHITE)\n",
    "        mt1[0][1:5].set_color(BLUE)\n",
    "        mt1[0][5:7].set_color(GOLD)\n",
    "        mt1[0][7].set_color(GREEN)\n",
    "        mt1[0][8].set_color(RED)\n",
    "        mt2 = MathTex(\"= \\\\frac{8}{3} - 0 = \\\\frac{8}{3}\").set_color(WHITE)\n",
    "        mt2[0][1:4].set_color(GREEN)\n",
    "        mt2[0][5].set_color(RED)\n",
    "        vgp.add(mt,mt1,mt2).arrange(DOWN,aligned_edge=LEFT)\n",
    "\n",
    "        self.wait()\n",
    "        self.play(Write(mt))\n",
    "        self.wait()\n",
    "        self.play(\n",
    "            FadeIn(mt1[0][0]),\n",
    "            TransformFromCopy(mt[0][3:],mt1[0][1:5])\n",
    "        )\n",
    "        self.play(\n",
    "            TransformFromCopy(mt[0][0:3],mt1[0][5:])\n",
    "        )\n",
    "        self.wait()\n",
    "        self.add(mt1)\n",
    "        self.play(\n",
    "            FadeIn(mt2[0][0]),\n",
    "            TransformFromCopy(VGroup(mt1[0][1:5],mt1[0][7]),mt2[0][1:4])\n",
    "        )\n",
    "        self.wait()\n",
    "        self.play(\n",
    "            FadeIn(mt2[0][4]),\n",
    "            TransformFromCopy(VGroup(mt1[0][1:5],mt1[0][8]),mt2[0][5])\n",
    "        )\n",
    "        self.wait()\n",
    "        self.play(FadeIn(mt2[0][6:]))\n",
    "        self.wait()"
   ],
   "id": "7be46aea159d7d1d",
   "outputs": [
    {
     "data": {
      "text/plain": [
       "Manim Community \u001B[32mv0.\u001B[0m\u001B[32m19.0\u001B[0m\n",
       "\n"
      ],
      "text/html": [
       "<pre style=\"white-space:pre;overflow-x:auto;line-height:normal;font-family:Menlo,'DejaVu Sans Mono',consolas,'Courier New',monospace\">Manim Community <span style=\"color: #008000; text-decoration-color: #008000\">v0.19.0</span>\n",
       "\n",
       "</pre>\n"
      ]
     },
     "metadata": {},
     "output_type": "display_data"
    },
    {
     "name": "stderr",
     "output_type": "stream",
     "text": [
      "                                                                                                \r"
     ]
    },
    {
     "data": {
      "text/plain": [
       "<IPython.core.display.Video object>"
      ],
      "text/html": [
       "<video src=\"media\\jupyter\\IntegralVisualization@2025-05-14@16-47-57.mp4\" controls autoplay loop style=\"max-width: 60%;\"  >\n",
       "      Your browser does not support the <code>video</code> element.\n",
       "    </video>"
      ]
     },
     "metadata": {},
     "output_type": "display_data"
    }
   ],
   "execution_count": 92
  },
  {
   "metadata": {
    "ExecuteTime": {
     "end_time": "2025-05-14T04:46:28.647323Z",
     "start_time": "2025-05-14T04:46:27.127393Z"
    }
   },
   "cell_type": "code",
   "source": [
    "%%manim -qh -v WARNING MatrixShow\n",
    "\n",
    "class MatrixShow(Scene):\n",
    "    def construct(self):\n",
    "        mat_input = np.array([\n",
    "            [0, 6],\n",
    "            [2, 3],\n",
    "        ])\n",
    "        mat_mob = MatrixDet(mat_input).set_color(BLACK)\n",
    "        st = SquTex(\"0\",side_length=1,fill_opacity = 0)\n",
    "        st[0][1].set_color(BLACK).shift(LEFT)\n",
    "        st[0][0].set_color(GOLD).shift(RIGHT)\n",
    "        hl_g = VGroup(\n",
    "            Square(side_length=1,fill_opacity = 0).move_to(mat_mob[0][1]),\n",
    "            Square(side_length=1,fill_opacity = 0).move_to(mat_mob[1][0]),\n",
    "            Square(side_length=1,fill_opacity = 0).move_to(mat_mob[1][1]),\n",
    "        ).set_color(GOLD)\n",
    "        self.play(Create(st[0][1]))\n",
    "        self.play(Create(st[0][0]))\n",
    "        self.play(st[0][0].animate.shift(LEFT),st[0][1].animate.shift(RIGHT))\n",
    "        self.play(\n",
    "            st.animate.move_to(mat_mob[0][0]),\n",
    "            FadeIn(mat_mob[1],mat_mob[0][1]),\n",
    "            FadeIn(hl_g),\n",
    "        )\n",
    "        self.add(mat_mob[0][0])\n",
    "        self.remove(st[0][1])\n",
    "        self.play(Uncreate(hl_g),Uncreate(st[0][0]))\n",
    "        self.play(Create(mat_mob[2:]))\n"
   ],
   "id": "24416e8c6b96de53",
   "outputs": [
    {
     "data": {
      "text/plain": [
       "Manim Community \u001B[32mv0.\u001B[0m\u001B[32m19.0\u001B[0m\n",
       "\n"
      ],
      "text/html": [
       "<pre style=\"white-space:pre;overflow-x:auto;line-height:normal;font-family:Menlo,'DejaVu Sans Mono',consolas,'Courier New',monospace\">Manim Community <span style=\"color: #008000; text-decoration-color: #008000\">v0.19.0</span>\n",
       "\n",
       "</pre>\n"
      ]
     },
     "metadata": {},
     "output_type": "display_data"
    },
    {
     "name": "stderr",
     "output_type": "stream",
     "text": [
      "                                                                                                   \r"
     ]
    },
    {
     "data": {
      "text/plain": [
       "<IPython.core.display.Video object>"
      ],
      "text/html": [
       "<video src=\"media\\jupyter\\MatrixShow@2025-05-14@12-46-28.mp4\" controls autoplay loop style=\"max-width: 60%;\"  >\n",
       "      Your browser does not support the <code>video</code> element.\n",
       "    </video>"
      ]
     },
     "metadata": {},
     "output_type": "display_data"
    }
   ],
   "execution_count": 73
  },
  {
   "metadata": {
    "ExecuteTime": {
     "end_time": "2025-05-14T05:22:21.466982Z",
     "start_time": "2025-05-14T05:21:38.501104Z"
    }
   },
   "cell_type": "code",
   "source": [
    "%%manim -qh -v WARNING MatrixDetShow\n",
    "\n",
    "color_list = [RED,ORANGE,YELLOW_E,GREEN,TEAL,BLUE,PURPLE,PINK,DARK_BROWN,GOLD]\n",
    "time_control = 0.5\n",
    "\n",
    "class MatrixDetShow(Scene):\n",
    "    def construct(self):\n",
    "        mat_input = np.array([\n",
    "            [0, 6, 1],\n",
    "            [2, 3, 9],\n",
    "            [5, 1, 7]\n",
    "        ])\n",
    "        mat_mob = MatrixDet(mat_input).set_color(BLACK)\n",
    "        st = SquTex(\"0\",side_length=1,fill_opacity = 0)\n",
    "        st[0][1].set_color(BLACK).shift(LEFT)\n",
    "        st[0][0].set_color(GOLD).shift(RIGHT)\n",
    "        hl_g = VGroup()\n",
    "        for i in range(len(mat_input)):\n",
    "            for j in range(len(mat_input[0])):\n",
    "                if i != 0 or j != 0:\n",
    "                    s = Square(side_length=1,fill_opacity = 0).move_to(mat_mob[i][j])\n",
    "                    hl_g.add(s)\n",
    "        hl_g.set_color(GOLD)\n",
    "        self.play(Create(st[0][1]))\n",
    "        self.play(Create(st[0][0]))\n",
    "        self.play(st[0][0].animate.shift(LEFT),st[0][1].animate.shift(RIGHT))\n",
    "        self.play(\n",
    "            st.animate.move_to(mat_mob[0][0]),\n",
    "            FadeIn(mat_mob[1:-2],mat_mob[0][1:]),\n",
    "            FadeIn(hl_g),\n",
    "        )\n",
    "        self.add(mat_mob[0][0])\n",
    "        self.remove(st[0][1])\n",
    "        self.play(Uncreate(hl_g),Uncreate(st[0][0]))\n",
    "        self.play(Create(mat_mob[2:]))\n",
    "        length = len(mat_input)\n",
    "\n",
    "        mat_mob_det = mat_mob.det_mat()\n",
    "        neg_mat = mat_mob.neg_with_brackets()\n",
    "        neg_mat = neg_mat.det_mat()\n",
    "        neg_mat.set_scale_fitness()\n",
    "        res_vgp = mat_mob_det.cal_result_addition().shift(DOWN*2).scale_to_fit_width(12).set_color(BLACK)\n",
    "        self.play(Transform(mat_mob,mat_mob_det))\n",
    "        self.play(mat_mob.animate.set_scale_fitness())\n",
    "\n",
    "        res_vgp_cp = res_vgp.copy()\n",
    "        for i in range(2*length):\n",
    "            vgp , vgp_brackets, num_lst = mat_mob.get_process_inform(i if i < length else length - i - 1,neg_mat)\n",
    "            self.play(vgp.animate.set_color(color_list[i]))\n",
    "            pro_vgp = cal_progress_times(color_list[i],vgp_brackets,num_lst).shift(DOWN)\n",
    "            pro_vgp_cp = pro_vgp.copy()\n",
    "            for j in range(length):\n",
    "                pro_vgp[2*j].move_to(vgp[j])\n",
    "                self.add(pro_vgp[2*j])\n",
    "                self.play(pro_vgp[2*j].animate.move_to(pro_vgp_cp[2*j]),run_time = time_control)\n",
    "                self.play(FadeIn(pro_vgp[2*j+1]),run_time = time_control)\n",
    "            self.play(FadeIn(pro_vgp[-1]),run_time = time_control)\n",
    "            res_vgp[2*i].move_to(pro_vgp[-1]).set_color(color_list[i])\n",
    "            self.add(res_vgp[2*i])\n",
    "            self.play(res_vgp[2*i].animate.move_to(res_vgp_cp[2*i]),run_time = time_control)\n",
    "            self.play(FadeIn(res_vgp[2*i+1]),run_time = time_control)\n",
    "            self.play(FadeOut(pro_vgp),run_time = time_control)\n",
    "            if i == length - 1:\n",
    "                self.play(mat_mob.animate.set_color(BLACK),run_time = time_control)\n",
    "        self.play(FadeIn(res_vgp[-1]),run_time = time_control)"
   ],
   "id": "ba35aae72a2e8d7b",
   "outputs": [
    {
     "data": {
      "text/plain": [
       "Manim Community \u001B[32mv0.\u001B[0m\u001B[32m19.0\u001B[0m\n",
       "\n"
      ],
      "text/html": [
       "<pre style=\"white-space:pre;overflow-x:auto;line-height:normal;font-family:Menlo,'DejaVu Sans Mono',consolas,'Courier New',monospace\">Manim Community <span style=\"color: #008000; text-decoration-color: #008000\">v0.19.0</span>\n",
       "\n",
       "</pre>\n"
      ]
     },
     "metadata": {},
     "output_type": "display_data"
    },
    {
     "name": "stderr",
     "output_type": "stream",
     "text": [
      "                                                                                                              \r"
     ]
    },
    {
     "data": {
      "text/plain": [
       "<IPython.core.display.Video object>"
      ],
      "text/html": [
       "<video src=\"media\\jupyter\\MatrixDetShow@2025-05-14@13-22-21.mp4\" controls autoplay loop style=\"max-width: 60%;\"  >\n",
       "      Your browser does not support the <code>video</code> element.\n",
       "    </video>"
      ]
     },
     "metadata": {},
     "output_type": "display_data"
    }
   ],
   "execution_count": 80
  },
  {
   "metadata": {
    "ExecuteTime": {
     "end_time": "2025-05-15T13:05:39.759528Z",
     "start_time": "2025-05-15T13:05:28.276291Z"
    }
   },
   "cell_type": "code",
   "source": [
    "%%manim -qh -v WARNING ClassCreate\n",
    "class ClassCreate(Scene):\n",
    "    def construct(self):\n",
    "        l = [1, 2, 3]\n",
    "\n",
    "        for step in range(4):\n",
    "            # 清空屏幕上旧元素（可选）\n",
    "            self.clear()\n",
    "\n",
    "            # 生成新的文字对象\n",
    "            t = Text(f\"{l}\").set_color(BLACK).shift(UP * 2)\n",
    "\n",
    "            # 生成新的 SquTexSlide（假设你自定义的类）\n",
    "            st = SquTexSlide(l, **typedict[\"default_type\"])\n",
    "            for i in range(len(l)):\n",
    "                st[i].set_color(gradient_dict[\"rainbow_color_dark\"][i % 7])\n",
    "\n",
    "            sd = st.copy().shift(DOWN * 2)\n",
    "\n",
    "            # 展示内容\n",
    "            self.play(Write(t), Write(st), run_time=1)\n",
    "            self.play(*sd.slide_fade(1))  # 假设你定义了这个方法\n",
    "            self.wait()\n",
    "\n",
    "            # 更新列表 l\n",
    "            l.append(step + 4)\n"
   ],
   "id": "9c8e19d7d65739e7",
   "outputs": [
    {
     "data": {
      "text/plain": [
       "Manim Community \u001B[32mv0.\u001B[0m\u001B[32m19.0\u001B[0m\n",
       "\n"
      ],
      "text/html": [
       "<pre style=\"white-space:pre;overflow-x:auto;line-height:normal;font-family:Menlo,'DejaVu Sans Mono',consolas,'Courier New',monospace\">Manim Community <span style=\"color: #008000; text-decoration-color: #008000\">v0.19.0</span>\n",
       "\n",
       "</pre>\n"
      ]
     },
     "metadata": {},
     "output_type": "display_data"
    },
    {
     "name": "stderr",
     "output_type": "stream",
     "text": [
      "                                                                                                              \r"
     ]
    },
    {
     "data": {
      "text/plain": [
       "<IPython.core.display.Video object>"
      ],
      "text/html": [
       "<video src=\"media\\jupyter\\ClassCreate@2025-05-15@21-05-39.mp4\" controls autoplay loop style=\"max-width: 60%;\"  >\n",
       "      Your browser does not support the <code>video</code> element.\n",
       "    </video>"
      ]
     },
     "metadata": {},
     "output_type": "display_data"
    }
   ],
   "execution_count": 8
  },
  {
   "metadata": {},
   "cell_type": "code",
   "outputs": [],
   "execution_count": null,
   "source": "",
   "id": "1faac123e265e161"
  }
 ],
 "metadata": {
  "kernelspec": {
   "display_name": "Python 3",
   "language": "python",
   "name": "python3"
  },
  "language_info": {
   "codemirror_mode": {
    "name": "ipython",
    "version": 2
   },
   "file_extension": ".py",
   "mimetype": "text/x-python",
   "name": "python",
   "nbconvert_exporter": "python",
   "pygments_lexer": "ipython2",
   "version": "2.7.6"
  }
 },
 "nbformat": 4,
 "nbformat_minor": 5
}
