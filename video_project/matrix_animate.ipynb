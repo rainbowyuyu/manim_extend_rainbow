{
 "cells": [
  {
   "metadata": {
    "ExecuteTime": {
     "end_time": "2024-11-26T05:29:03.179691Z",
     "start_time": "2024-11-26T05:29:02.066078Z"
    }
   },
   "cell_type": "code",
   "source": "from yty_manim.application.matrix_yty import *",
   "id": "4f897b4bda6120fb",
   "outputs": [
    {
     "data": {
      "text/plain": [
       "Manim Community \u001B[32mv0.\u001B[0m\u001B[32m18.0\u001B[0m\n",
       "\n"
      ],
      "text/html": [
       "<pre style=\"white-space:pre;overflow-x:auto;line-height:normal;font-family:Menlo,'DejaVu Sans Mono',consolas,'Courier New',monospace\">Manim Community <span style=\"color: #008000; text-decoration-color: #008000\">v0.18.0</span>\n",
       "\n",
       "</pre>\n"
      ]
     },
     "metadata": {},
     "output_type": "display_data"
    }
   ],
   "execution_count": 2
  },
  {
   "metadata": {
    "ExecuteTime": {
     "end_time": "2024-11-26T05:30:01.171998Z",
     "start_time": "2024-11-26T05:29:03.181690Z"
    }
   },
   "cell_type": "code",
   "source": [
    "%%manim -qh -v WARNING MatrixDetShow\n",
    "\n",
    "color_list = [RED,ORANGE,YELLOW,GREEN,TEAL,BLUE,PURPLE,PINK,DARK_BROWN,GOLD]\n",
    "time_control = 0.5\n",
    "\n",
    "class MatrixDetShow(Scene):\n",
    "    def construct(self):\n",
    "        mat_input = matrix_3\n",
    "        length = len(mat_input)\n",
    "        mat_mob = MatrixDet(mat_input)\n",
    "        mat_mob_det = mat_mob.det_mat()\n",
    "        neg_mat = mat_mob.neg_with_brackets()\n",
    "        neg_mat = neg_mat.det_mat()\n",
    "        neg_mat.set_scale_fitness()\n",
    "        res_vgp = mat_mob_det.cal_result_addition().shift(DOWN*2).scale_to_fit_width(12)\n",
    "        self.play(Write(mat_mob),run_time = 2)\n",
    "        self.wait()\n",
    "        self.play(Transform(mat_mob,mat_mob_det))\n",
    "        self.wait()\n",
    "        self.play(mat_mob.animate.set_scale_fitness())\n",
    "        self.wait()\n",
    "        \n",
    "        res_vgp_cp = res_vgp.copy()\n",
    "        for i in range(2*length):\n",
    "            vgp , vgp_brackets, num_lst = mat_mob.get_process_inform(i if i < length else length - i - 1,neg_mat)\n",
    "            self.play(vgp.animate.set_color(color_list[i]))\n",
    "            pro_vgp = cal_progress_times(color_list[i],vgp_brackets,num_lst).shift(DOWN)\n",
    "            pro_vgp_cp = pro_vgp.copy()\n",
    "            for j in range(length):\n",
    "                pro_vgp[2*j].move_to(vgp[j])\n",
    "                self.add(pro_vgp[2*j])\n",
    "                self.play(pro_vgp[2*j].animate.move_to(pro_vgp_cp[2*j]),run_time = time_control)\n",
    "                self.play(FadeIn(pro_vgp[2*j+1]),run_time = time_control)\n",
    "            self.play(FadeIn(pro_vgp[-1]),run_time = time_control)\n",
    "            res_vgp[2*i].move_to(pro_vgp[-1]).set_color(color_list[i])\n",
    "            self.add(res_vgp[2*i])\n",
    "            self.play(res_vgp[2*i].animate.move_to(res_vgp_cp[2*i]),run_time = time_control)\n",
    "            self.play(FadeIn(res_vgp[2*i+1]),run_time = time_control)\n",
    "            self.play(FadeOut(pro_vgp),run_time = time_control)\n",
    "            if i == length - 1:\n",
    "                self.play(mat_mob.animate.set_color(WHITE),run_time = time_control)\n",
    "        self.play(FadeIn(res_vgp[-1]),run_time = time_control)\n",
    "        self.wait(2)"
   ],
   "id": "b3390830420b42c1",
   "outputs": [
    {
     "name": "stderr",
     "output_type": "stream",
     "text": [
      "                                                                                                           \r"
     ]
    },
    {
     "data": {
      "text/plain": [
       "<IPython.core.display.Video object>"
      ],
      "text/html": [
       "<video src=\"media\\jupyter\\MatrixDetShow@2024-11-26@13-30-01.mp4\" controls autoplay loop style=\"max-width: 60%;\"  >\n",
       "      Your browser does not support the <code>video</code> element.\n",
       "    </video>"
      ]
     },
     "metadata": {},
     "output_type": "display_data"
    }
   ],
   "execution_count": 3
  },
  {
   "metadata": {
    "ExecuteTime": {
     "end_time": "2024-11-10T16:28:30.842687Z",
     "start_time": "2024-11-10T16:27:49.013597Z"
    }
   },
   "cell_type": "code",
   "source": [
    "%%manim -qh -v WARNING MatrixAdditionShow\n",
    "\n",
    "matrix_4_2 = np.array([\n",
    "    [1,2,-9,15],\n",
    "    [-3,4,14,11],\n",
    "    [5,-6,10,16],\n",
    "    [7,8,13,-12]\n",
    "])\n",
    "\n",
    "class MatrixAdditionShow(Scene):\n",
    "    def construct(self):\n",
    "        m1_input = matrix_4\n",
    "        m2_input = matrix_4_2\n",
    "        color_add = [RED,BLUE]\n",
    "        \n",
    "        t = add_txt.copy().shift(UP*2)\n",
    "        e = equal_txt.copy()\n",
    "        m1 = MatrixMath(m1_input)\n",
    "        m1.fit_screen(t,LEFT)\n",
    "        m2 = MatrixMath(m2_input)\n",
    "        m2.fit_screen(t,RIGHT)\n",
    "        m3 = m1.addition_mat(m2)\n",
    "        m3.fit_screen(edge=DR)\n",
    "        e.next_to(m3,LEFT)\n",
    "        s1 = Square().scale_to_fit_height(m1[0][0].height/1.2).move_to(m1[0][0]).set_color(color_add[0])\n",
    "        s2 = Square().scale_to_fit_height(m2[0][0].height/1.2).move_to(m2[0][0]).set_color(color_add[1])\n",
    "        \n",
    "        total = VGroup(m1,t,m2,e,m3[-2:])\n",
    "        self.play(Write(total),run_time = 4)\n",
    "        \n",
    "        ori_vgp = VGroup(\n",
    "            Text(f\"{m1_input[0][0]}\" if m1_input[0][0] >= 0 else f\"({m1_input[0][0]})\").set_color(color_add[0]),\n",
    "            add_txt.copy(),\n",
    "            Text(f\"{m2_input[0][0]}\" if m2_input[0][0] >= 0 else f\"({m2_input[0][0]})\").set_color(color_add[1]),\n",
    "            equal_txt.copy(),\n",
    "            Text(f\"{m1_input[0][0] + m2_input[0][0]}\"),\n",
    "        ).arrange().shift(DOWN*1.75+LEFT*3.5)\n",
    "        if ori_vgp.width > 5.5:\n",
    "            ori_vgp.scale_to_fit_width(5.5)\n",
    "        self.play(\n",
    "            FadeIn(ori_vgp),\n",
    "            FadeIn(s1),\n",
    "            FadeIn(s2),\n",
    "            run_time = 0.5\n",
    "        )\n",
    "        \n",
    "        for i in range(len(m1_input)):\n",
    "            for j in range(len(m1_input[0])):\n",
    "                first_txt = Text(f\"{m1_input[i][j]}\" if m1_input[i][j] >= 0 else f\"({m1_input[i][j]})\").set_color(color_add[0])\n",
    "                second_txt = Text(f\"{m2_input[i][j]}\" if m2_input[i][j] >= 0 else f\"({m2_input[i][j]})\").set_color(color_add[1])\n",
    "                res_txt = Text(f\"{m1_input[i][j] + m2_input[i][j]}\")\n",
    "                txt_vgp = VGroup(first_txt,add_txt.copy(),second_txt,equal_txt.copy(),res_txt).arrange().shift(DOWN*1.75+LEFT*3.5)\n",
    "                if txt_vgp.width > 5.5:\n",
    "                    txt_vgp.scale_to_fit_width(5.5)\n",
    "                self.play(\n",
    "                    s1.animate.move_to(m1[i][j]),\n",
    "                    s2.animate.move_to(m2[i][j]),\n",
    "                    Transform(ori_vgp,txt_vgp),\n",
    "                    run_time =  0.5\n",
    "                )\n",
    "                self.play(ori_vgp[-1].copy().animate.scale(m3[0][0].height/1.3).move_to(m3[i][j]),run_time = 0.5)  \n",
    "        self.wait(2)\n",
    "        "
   ],
   "id": "274f369fd24bf54d",
   "outputs": [
    {
     "name": "stderr",
     "output_type": "stream",
     "text": [
      "                                                                                                   \r"
     ]
    },
    {
     "data": {
      "text/plain": [
       "<IPython.core.display.Video object>"
      ],
      "text/html": [
       "<video src=\"media\\jupyter\\MatrixAdditionShow@2024-11-11@00-28-30.mp4\" controls autoplay loop style=\"max-width: 60%;\"  >\n",
       "      Your browser does not support the <code>video</code> element.\n",
       "    </video>"
      ]
     },
     "metadata": {},
     "output_type": "display_data"
    }
   ],
   "execution_count": 141
  },
  {
   "metadata": {
    "ExecuteTime": {
     "end_time": "2024-11-11T07:01:38.625508Z",
     "start_time": "2024-11-11T07:00:21.919697Z"
    }
   },
   "cell_type": "code",
   "source": [
    "%%manim -qh -v WARNING MatrixMulShow\n",
    "\n",
    "color_mul = [RED_A,BLUE_A,RED,BLUE]\n",
    "\n",
    "class MatrixMulShow(Scene):\n",
    "    def construct(self):\n",
    "        mat_a_input = matrix_2t3\n",
    "        mat_b_input = matrix_3t2\n",
    "        run_time = 0.5\n",
    "        \n",
    "        t = times_txt.copy().shift(UP*2)\n",
    "        a = MatrixMath(mat_a_input)\n",
    "        a.fit_screen(t,LEFT)\n",
    "        b = MatrixMath(mat_b_input)\n",
    "        b.fit_screen(t,RIGHT)\n",
    "        c = a.dot_multiplication_mat(b)\n",
    "        c.fit_screen(edge=DR)\n",
    "        total = VGroup(a,t,b,equal_txt.copy().next_to(c,LEFT),c[-2:])\n",
    "        \n",
    "        self.play(Write(total),run_time = 4)\n",
    "        \n",
    "        s1 = SurroundingRectangle(a.get_row(0),buff = 0,fill_opacity=0.5,stroke_opacity=0).set_color(color_mul[0])\n",
    "        sliding1 = SurroundingRectangle(a.get_row(0)[0],buff = 0).set_color(color_mul[2])\n",
    "        s2 = SurroundingRectangle(b.get_column(0),buff = 0,fill_opacity=0.5,stroke_opacity=0).set_color(color_mul[1])\n",
    "        sliding2 = SurroundingRectangle(b.get_column(0)[0],buff = 0).set_color(color_mul[3])\n",
    "        \n",
    "        ori_vgp = VGroup(\n",
    "            Text(f\"{mat_a_input[0][0]}\" if mat_a_input[0][0] >= 0 else f\"({mat_a_input[0][0]})\").set_color(RED),\n",
    "            times_txt.copy(),\n",
    "            Text(f\"{mat_b_input[0][0]}\" if mat_b_input[0][0] >= 0 else f\"({mat_b_input[0][0]})\").set_color(BLUE),\n",
    "            equal_txt.copy(),\n",
    "            Text(f\"{mat_a_input[0][0]*mat_b_input[0][0]}\"),\n",
    "        ).arrange().shift(DOWN*0.75+LEFT*3.5)\n",
    "        \n",
    "        if ori_vgp.width > 5.5:\n",
    "            ori_vgp.scale_to_fit_width(5.5)\n",
    "        part = VGroup(s1,s2,sliding1,sliding2,ori_vgp)\n",
    "        \n",
    "        self.play(FadeIn(part))\n",
    "        \n",
    "        res_mat = mat_a_input @ mat_b_input\n",
    "        for i in range(res_mat.shape[0]):\n",
    "            for j in range(res_mat.shape[1]):\n",
    "                res_vgp = c.get_mul_progress([i,j],color_mul)\n",
    "                res_vgp[0].to_edge(LEFT).shift(DOWN*2.5)\n",
    "                res_vgp[1].shift(LEFT*2.6+DOWN*2.6)\n",
    "                if res_vgp[1].width >= 4.3:\n",
    "                    res_vgp[1].scale_to_fit_width(4.5)\n",
    "                self.play(\n",
    "                    FadeIn(res_vgp[0]),\n",
    "                    s1.animate.move_to(a.get_row(i)),\n",
    "                    s2.animate.move_to(b.get_column(j)),\n",
    "                    run_time = run_time\n",
    "                )\n",
    "                    \n",
    "                for k in range(mat_a_input.shape[1]):\n",
    "                    pro_vgp = VGroup(\n",
    "                        Text(f\"{mat_a_input[i][k]}\" if mat_a_input[i][k] >= 0 else f\"({mat_a_input[i][k]})\").set_color(RED),\n",
    "                        times_txt.copy(),\n",
    "                        Text(f\"{mat_b_input[k][j]}\" if mat_b_input[k][j] >= 0 else f\"({mat_b_input[k][j]})\").set_color(BLUE),\n",
    "                        equal_txt.copy(),\n",
    "                        Text(f\"{mat_a_input[i][k]*mat_b_input[k][j]}\"),\n",
    "                    ).arrange().shift(DOWN*0.75+LEFT*3.5)\n",
    "                    \n",
    "                    self.play(\n",
    "                        Transform(ori_vgp,pro_vgp),\n",
    "                        sliding1.animate.move_to(a.get_row(i)[k]),\n",
    "                        sliding2.animate.move_to(b.get_column(j)[k]),\n",
    "                        run_time = run_time,\n",
    "                    )\n",
    "                    \n",
    "                    r1_cp = res_vgp[1].copy()\n",
    "                    res_vgp[1][2*k].move_to(ori_vgp[-1])\n",
    "                    \n",
    "                    self.play(\n",
    "                        res_vgp[1][2*k].animate.move_to(r1_cp[2*k]),\n",
    "                        FadeIn(res_vgp[1][2*k+1]),\n",
    "                        run_time = run_time,\n",
    "                    )\n",
    "                \n",
    "                self.play(FadeIn(res_vgp[1][-1]))\n",
    "                self.play(res_vgp[1][-1].copy().animate.scale(c[0][0].height/1.3).move_to(c[i][j]),run_time = run_time)\n",
    "                self.play(FadeOut(res_vgp),run_time = run_time)\n",
    "                \n",
    "        self.wait(2)"
   ],
   "id": "5200dc0919a2f99b",
   "outputs": [
    {
     "name": "stderr",
     "output_type": "stream",
     "text": [
      "                                                                                                       \r"
     ]
    },
    {
     "data": {
      "text/plain": [
       "<IPython.core.display.Video object>"
      ],
      "text/html": [
       "<video src=\"media\\jupyter\\MatrixMulShow@2024-11-11@15-01-38.mp4\" controls autoplay loop style=\"max-width: 60%;\"  >\n",
       "      Your browser does not support the <code>video</code> element.\n",
       "    </video>"
      ]
     },
     "metadata": {},
     "output_type": "display_data"
    }
   ],
   "execution_count": 4
  },
  {
   "metadata": {},
   "cell_type": "code",
   "outputs": [],
   "execution_count": null,
   "source": "",
   "id": "83e08f96e8564440"
  }
 ],
 "metadata": {
  "kernelspec": {
   "display_name": "Python 3",
   "language": "python",
   "name": "python3"
  },
  "language_info": {
   "codemirror_mode": {
    "name": "ipython",
    "version": 2
   },
   "file_extension": ".py",
   "mimetype": "text/x-python",
   "name": "python",
   "nbconvert_exporter": "python",
   "pygments_lexer": "ipython2",
   "version": "2.7.6"
  }
 },
 "nbformat": 4,
 "nbformat_minor": 5
}
