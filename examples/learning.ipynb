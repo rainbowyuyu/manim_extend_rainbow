{
 "cells": [
  {
   "cell_type": "code",
   "id": "initial_id",
   "metadata": {
    "collapsed": true,
    "ExecuteTime": {
     "end_time": "2025-06-24T15:21:53.294320Z",
     "start_time": "2025-06-24T15:21:53.280932Z"
    }
   },
   "source": "from manim import *",
   "outputs": [],
   "execution_count": 6
  },
  {
   "metadata": {},
   "cell_type": "markdown",
   "source": [
    "        # s = Square(\n",
    "        #     side_length=2,\n",
    "        #     fill_opacity=0.5,\n",
    "        # ).set_color(RED).shift(DOWN*0.5)\n",
    "        # c1 = Circle(\n",
    "        #     radius=1,\n",
    "        #     fill_opacity=0.5,\n",
    "        # ).shift(UP*0.5)\n",
    "        # c2 = Circle(\n",
    "        #     radius=1,\n",
    "        #     fill_opacity=0.5,\n",
    "        # ).shift(DOWN*0.5+RIGHT)\n",
    "        #\n",
    "        # v = VGroup(s, c1, c2).rotate(PI/4)\n",
    "        # v.move_to(ORIGIN)\n",
    "        #\n",
    "        # self.play(Create(v))\n",
    "        # self.wait()\n",
    "        # self.play(v.animate.set_opacity(1))\n",
    "        # self.wait()\n",
    "        # -------------"
   ],
   "id": "d67ae5c32193a10c"
  },
  {
   "metadata": {
    "ExecuteTime": {
     "end_time": "2025-06-24T09:46:08.531909Z",
     "start_time": "2025-06-24T09:46:08.049788Z"
    }
   },
   "cell_type": "code",
   "source": [
    "%%manim -qh -v WARNING ABC\n",
    "class ABC(Scene):\n",
    "    def construct(self):\n",
    "        s = Square(\n",
    "            side_length=2,\n",
    "            fill_opacity=0.5,\n",
    "        ).set_color(RED).shift(DOWN*0.5)\n",
    "        c1 = Circle(\n",
    "            radius=1,\n",
    "            fill_opacity=0.5,\n",
    "        ).shift(UP*0.5)\n",
    "        c2 = Circle(\n",
    "            radius=1,\n",
    "            fill_opacity=0.5,\n",
    "        ).shift(DOWN*0.5+RIGHT)\n",
    "\n",
    "        v = VGroup(s, c1, c2).rotate(PI/4)\n",
    "        v.move_to(ORIGIN)\n",
    "\n",
    "        self.play(Create(v))\n",
    "        self.wait()\n",
    "        self.play(v.animate.set_opacity(1))\n",
    "        self.wait()\n",
    "        # -------------\n",
    "        # lst = [2*x for x in range(4)]\n",
    "        # v = VGroup()\n",
    "        # for i in range(len(lst)):\n",
    "        #     v.add(\n",
    "        #         Square(\n",
    "        #             side_length=lst[i],\n",
    "        #         )\n",
    "        #     )\n",
    "        # self.add(v)"
   ],
   "id": "747351473dd3868a",
   "outputs": [
    {
     "data": {
      "text/plain": [
       "Manim Community \u001B[32mv0.\u001B[0m\u001B[32m19.0\u001B[0m\n",
       "\n"
      ],
      "text/html": [
       "<pre style=\"white-space:pre;overflow-x:auto;line-height:normal;font-family:Menlo,'DejaVu Sans Mono',consolas,'Courier New',monospace\">Manim Community <span style=\"color: #008000; text-decoration-color: #008000\">v0.19.0</span>\n",
       "\n",
       "</pre>\n"
      ]
     },
     "metadata": {},
     "output_type": "display_data"
    },
    {
     "name": "stderr",
     "output_type": "stream",
     "text": [
      "                                                                                             \r"
     ]
    },
    {
     "data": {
      "text/plain": [
       "<IPython.core.display.Video object>"
      ],
      "text/html": [
       "<video src=\"media\\jupyter\\ABC@2025-06-24@17-46-08.mp4\" controls autoplay loop style=\"max-width: 60%;\"  >\n",
       "      Your browser does not support the <code>video</code> element.\n",
       "    </video>"
      ]
     },
     "metadata": {},
     "output_type": "display_data"
    }
   ],
   "execution_count": 3
  },
  {
   "metadata": {
    "ExecuteTime": {
     "end_time": "2025-06-23T15:26:07.802848Z",
     "start_time": "2025-06-23T15:26:07.797231Z"
    }
   },
   "cell_type": "code",
   "source": [
    "def add(a,b):\n",
    "    return a+b\n",
    "\n",
    "print((add(1,2)))"
   ],
   "id": "be6b4bc4ec3c9b2d",
   "outputs": [
    {
     "name": "stdout",
     "output_type": "stream",
     "text": [
      "3\n"
     ]
    }
   ],
   "execution_count": 16
  },
  {
   "metadata": {
    "ExecuteTime": {
     "end_time": "2025-06-24T15:43:39.406140Z",
     "start_time": "2025-06-24T15:43:39.393123Z"
    }
   },
   "cell_type": "code",
   "source": [
    "import numpy as np\n",
    "import math"
   ],
   "id": "8e3a6cc1637baea8",
   "outputs": [],
   "execution_count": 20
  },
  {
   "metadata": {
    "ExecuteTime": {
     "end_time": "2025-06-24T16:04:03.302027Z",
     "start_time": "2025-06-24T16:03:47.797016Z"
    }
   },
   "cell_type": "code",
   "source": [
    "%%manim -qh -v WARNING MathScene\n",
    "class MathScene(Scene):\n",
    "    def construct(self):\n",
    "        axes = Axes(\n",
    "            x_range=[-4.1*np.pi,4.1*np.pi,0.5*np.pi],\n",
    "            y_range=[-2.1,2.1,0.5],\n",
    "        )\n",
    "        func = axes.plot(\n",
    "            function = lambda x : np.sin(x)\n",
    "        )\n",
    "        strat_func = axes.plot(\n",
    "            lambda x : x\n",
    "        )\n",
    "        a = 14\n",
    "        v = VGroup()\n",
    "        color_lst = [RED,ORANGE,YELLOW,GREEN,TEAL,BLUE,PURPLE]\n",
    "        for n in range(1,a+1):\n",
    "            change_func = axes.plot(\n",
    "                lambda x : sum(\n",
    "                    [\n",
    "                        ((-1)**k) * (x**(2*k+1)) / math.factorial(2*k+1)\n",
    "                        for k in range(n)\n",
    "                    ]\n",
    "                ),\n",
    "                x_range = [-4.1*np.pi,4.1*np.pi],\n",
    "            ).set_color(color_lst[(n-1)%7])\n",
    "            v.add(change_func)\n",
    "        # sin(x)的泰勒展开\n",
    "\n",
    "        self.play(Create(axes))\n",
    "        self.play(Create(strat_func))\n",
    "        for i in range(a):\n",
    "            self.play(Transform(strat_func,v[i]))\n",
    "        self.wait()"
   ],
   "id": "9479c50dc2e4cc3f",
   "outputs": [
    {
     "data": {
      "text/plain": [
       "Manim Community \u001B[32mv0.\u001B[0m\u001B[32m19.0\u001B[0m\n",
       "\n"
      ],
      "text/html": [
       "<pre style=\"white-space:pre;overflow-x:auto;line-height:normal;font-family:Menlo,'DejaVu Sans Mono',consolas,'Courier New',monospace\">Manim Community <span style=\"color: #008000; text-decoration-color: #008000\">v0.19.0</span>\n",
       "\n",
       "</pre>\n"
      ]
     },
     "metadata": {},
     "output_type": "display_data"
    },
    {
     "name": "stderr",
     "output_type": "stream",
     "text": [
      "                                                                                             \r"
     ]
    },
    {
     "data": {
      "text/plain": [
       "<IPython.core.display.Video object>"
      ],
      "text/html": [
       "<video src=\"media\\jupyter\\MathScene@2025-06-25@00-04-03.mp4\" controls autoplay loop style=\"max-width: 60%;\"  >\n",
       "      Your browser does not support the <code>video</code> element.\n",
       "    </video>"
      ]
     },
     "metadata": {},
     "output_type": "display_data"
    }
   ],
   "execution_count": 40
  },
  {
   "metadata": {},
   "cell_type": "code",
   "outputs": [],
   "execution_count": null,
   "source": "",
   "id": "802542a96626507e"
  }
 ],
 "metadata": {
  "kernelspec": {
   "display_name": "Python 3",
   "language": "python",
   "name": "python3"
  },
  "language_info": {
   "codemirror_mode": {
    "name": "ipython",
    "version": 2
   },
   "file_extension": ".py",
   "mimetype": "text/x-python",
   "name": "python",
   "nbconvert_exporter": "python",
   "pygments_lexer": "ipython2",
   "version": "2.7.6"
  }
 },
 "nbformat": 4,
 "nbformat_minor": 5
}
